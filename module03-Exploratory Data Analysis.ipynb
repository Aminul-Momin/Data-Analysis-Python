{
 "cells": [
  {
   "cell_type": "markdown",
   "metadata": {
    "toc": true
   },
   "source": [
    "<h1>Table of Contents<span class=\"tocSkip\"></span></h1>\n",
    "<div class=\"toc\"><ul class=\"toc-item\"><li><span><a href=\"#Data-Preparation\" data-toc-modified-id=\"Data-Preparation-1\">Data Preparation</a></span></li><li><span><a href=\"#Analyzing-Individual-Feature-Patterns-using-Visualization\" data-toc-modified-id=\"Analyzing-Individual-Feature-Patterns-using-Visualization-2\">Analyzing Individual Feature Patterns using Visualization</a></span><ul class=\"toc-item\"><li><ul class=\"toc-item\"><li><span><a href=\"#How-to-choose-the-right-visualization-method?\" data-toc-modified-id=\"How-to-choose-the-right-visualization-method?-2.0.1\">How to choose the right visualization method?</a></span></li></ul></li><li><span><a href=\"#Continuous-numerical-variables:\" data-toc-modified-id=\"Continuous-numerical-variables:-2.1\">Continuous numerical variables:</a></span></li><li><span><a href=\"#Positive-linear-relationship\" data-toc-modified-id=\"Positive-linear-relationship-2.2\">Positive linear relationship</a></span></li><li><span><a href=\"#Weak-Linear-Relationship\" data-toc-modified-id=\"Weak-Linear-Relationship-2.3\">Weak Linear Relationship</a></span></li><li><span><a href=\"#Categorical-variables\" data-toc-modified-id=\"Categorical-variables-2.4\">Categorical variables</a></span></li></ul></li><li><span><a href=\"#Descriptive-Statistical-Analysis\" data-toc-modified-id=\"Descriptive-Statistical-Analysis-3\">Descriptive Statistical Analysis</a></span><ul class=\"toc-item\"><li><span><a href=\"#Value-Counts\" data-toc-modified-id=\"Value-Counts-3.1\">Value Counts</a></span></li></ul></li><li><span><a href=\"#Basics-of-Grouping\" data-toc-modified-id=\"Basics-of-Grouping-4\">Basics of Grouping</a></span><ul class=\"toc-item\"><li><ul class=\"toc-item\"><li><span><a href=\"#Variables:-Drive-Wheels-and-Body-Style-vs-Price\" data-toc-modified-id=\"Variables:-Drive-Wheels-and-Body-Style-vs-Price-4.0.1\">Variables: Drive Wheels and Body Style vs Price</a></span></li></ul></li></ul></li><li><span><a href=\"#Correlation-and-Causation\" data-toc-modified-id=\"Correlation-and-Causation-5\">Correlation and Causation</a></span><ul class=\"toc-item\"><li><span><a href=\"#Pearson-Correlation:-\" data-toc-modified-id=\"Pearson-Correlation:--5.1\">Pearson Correlation: </a></span></li><li><span><a href=\"#P-value:-\" data-toc-modified-id=\"P-value:--5.2\">P-value: </a></span></li><li><span><a href=\"#Wheel-base-vs-Price\" data-toc-modified-id=\"Wheel-base-vs-Price-5.3\">Wheel-base vs Price</a></span></li><li><span><a href=\"#Horsepower-vs-Price\" data-toc-modified-id=\"Horsepower-vs-Price-5.4\">Horsepower vs Price</a></span></li><li><span><a href=\"#Length-vs-Price\" data-toc-modified-id=\"Length-vs-Price-5.5\">Length vs Price</a></span></li><li><span><a href=\"#Width-vs-Price\" data-toc-modified-id=\"Width-vs-Price-5.6\">Width vs Price</a></span></li><li><span><a href=\"#Curb-weight-vs-Price\" data-toc-modified-id=\"Curb-weight-vs-Price-5.7\">Curb-weight vs Price</a></span></li><li><span><a href=\"#Engine-size-vs-Price\" data-toc-modified-id=\"Engine-size-vs-Price-5.8\">Engine-size vs Price</a></span></li><li><span><a href=\"#Bore-vs-Price\" data-toc-modified-id=\"Bore-vs-Price-5.9\">Bore vs Price</a></span></li><li><span><a href=\"#City-mpg-vs-Price\" data-toc-modified-id=\"City-mpg-vs-Price-5.10\">City-mpg vs Price</a></span></li><li><span><a href=\"#Highway-mpg-vs-Price\" data-toc-modified-id=\"Highway-mpg-vs-Price-5.11\">Highway-mpg vs Price</a></span></li></ul></li><li><span><a href=\"#ANOVA\" data-toc-modified-id=\"ANOVA-6\">ANOVA</a></span><ul class=\"toc-item\"><li><span><a href=\"#Drive-Wheels\" data-toc-modified-id=\"Drive-Wheels-6.1\">Drive Wheels</a></span><ul class=\"toc-item\"><li><span><a href=\"#Separately:-fwd-and-rwd\" data-toc-modified-id=\"Separately:-fwd-and-rwd-6.1.1\">Separately: fwd and rwd</a></span></li><li><span><a href=\"#4wd-and-rwd\" data-toc-modified-id=\"4wd-and-rwd-6.1.2\">4wd and rwd</a></span></li><li><span><a href=\"#4wd-and-fwd\" data-toc-modified-id=\"4wd-and-fwd-6.1.3\">4wd and fwd</a></span></li></ul></li><li><span><a href=\"#Conclusion:-Important-Variables\" data-toc-modified-id=\"Conclusion:-Important-Variables-6.2\">Conclusion: Important Variables</a></span></li></ul></li></ul></div>"
   ]
  },
  {
   "cell_type": "code",
   "execution_count": 2,
   "metadata": {},
   "outputs": [],
   "source": [
    "import pandas as pd\n",
    "import numpy as np\n",
    "import matplotlib.pyplot as plt\n",
    "import seaborn as sns\n",
    "\n",
    "pd.set_option(\"display.max_rows\", 25)\n",
    "pd.set_option('display.max_columns', 100)\n",
    "%matplotlib inline\n",
    "plt.style.use('seaborn') "
   ]
  },
  {
   "cell_type": "markdown",
   "metadata": {},
   "source": [
    "<h1 style=\"color:maroon\" align=center><font size=6>Data Analysis with Python</font></h1>\n",
    "\n",
    "<h1 style=\"color:maroon\" align=\"center\"> Exploratory Data Analysis</h1>"
   ]
  },
  {
   "cell_type": "markdown",
   "metadata": {},
   "source": [
    "## Data Preparation"
   ]
  },
  {
   "cell_type": "markdown",
   "metadata": {},
   "source": [
    "This dataset was hosted on IBM Cloud object click <a href=\"https://cocl.us/cognitive_class_DA0101EN_objectstorage\">HERE</a> for free storage"
   ]
  },
  {
   "cell_type": "code",
   "execution_count": 3,
   "metadata": {},
   "outputs": [],
   "source": [
    "# !wget https://s3-api.us-geo.objectstorage.softlayer.net/cf-courses-data/CognitiveClass/DA0101EN/automobileEDA.csv"
   ]
  },
  {
   "cell_type": "code",
   "execution_count": 9,
   "metadata": {},
   "outputs": [],
   "source": [
    "PATH='./Data/'\n",
    "df = pd.read_csv(PATH+\"automobileEDA.csv\")"
   ]
  },
  {
   "cell_type": "code",
   "execution_count": 10,
   "metadata": {
    "scrolled": true
   },
   "outputs": [
    {
     "data": {
      "text/html": [
       "<div>\n",
       "<style scoped>\n",
       "    .dataframe tbody tr th:only-of-type {\n",
       "        vertical-align: middle;\n",
       "    }\n",
       "\n",
       "    .dataframe tbody tr th {\n",
       "        vertical-align: top;\n",
       "    }\n",
       "\n",
       "    .dataframe thead th {\n",
       "        text-align: right;\n",
       "    }\n",
       "</style>\n",
       "<table border=\"1\" class=\"dataframe\">\n",
       "  <thead>\n",
       "    <tr style=\"text-align: right;\">\n",
       "      <th></th>\n",
       "      <th>symboling</th>\n",
       "      <th>normalized-losses</th>\n",
       "      <th>make</th>\n",
       "      <th>num-of-doors</th>\n",
       "      <th>body-style</th>\n",
       "      <th>drive-wheels</th>\n",
       "      <th>engine-location</th>\n",
       "      <th>wheel-base</th>\n",
       "      <th>length</th>\n",
       "      <th>width</th>\n",
       "      <th>height</th>\n",
       "      <th>curb-weight</th>\n",
       "      <th>engine-type</th>\n",
       "      <th>num-of-cylinders</th>\n",
       "      <th>engine-size</th>\n",
       "      <th>fuel-system</th>\n",
       "      <th>bore</th>\n",
       "      <th>stroke</th>\n",
       "      <th>compression-ratio</th>\n",
       "      <th>horsepower</th>\n",
       "      <th>peak-rpm</th>\n",
       "      <th>city-mpg</th>\n",
       "      <th>highway-L/100km</th>\n",
       "      <th>price</th>\n",
       "      <th>city-L/100km</th>\n",
       "      <th>horsepower-binned</th>\n",
       "      <th>diesel</th>\n",
       "      <th>gas</th>\n",
       "      <th>std</th>\n",
       "      <th>turbo</th>\n",
       "    </tr>\n",
       "  </thead>\n",
       "  <tbody>\n",
       "    <tr>\n",
       "      <th>0</th>\n",
       "      <td>3</td>\n",
       "      <td>122</td>\n",
       "      <td>alfa-romero</td>\n",
       "      <td>two</td>\n",
       "      <td>convertible</td>\n",
       "      <td>rwd</td>\n",
       "      <td>front</td>\n",
       "      <td>88.6</td>\n",
       "      <td>0.811148</td>\n",
       "      <td>0.890278</td>\n",
       "      <td>0.816054</td>\n",
       "      <td>2548</td>\n",
       "      <td>dohc</td>\n",
       "      <td>four</td>\n",
       "      <td>130</td>\n",
       "      <td>mpfi</td>\n",
       "      <td>3.47</td>\n",
       "      <td>2.68</td>\n",
       "      <td>9.0</td>\n",
       "      <td>111</td>\n",
       "      <td>5000.0</td>\n",
       "      <td>21</td>\n",
       "      <td>8.703704</td>\n",
       "      <td>16500.0</td>\n",
       "      <td>11.190476</td>\n",
       "      <td>Low</td>\n",
       "      <td>0</td>\n",
       "      <td>1</td>\n",
       "      <td>1</td>\n",
       "      <td>0</td>\n",
       "    </tr>\n",
       "    <tr>\n",
       "      <th>1</th>\n",
       "      <td>1</td>\n",
       "      <td>122</td>\n",
       "      <td>alfa-romero</td>\n",
       "      <td>two</td>\n",
       "      <td>hatchback</td>\n",
       "      <td>rwd</td>\n",
       "      <td>front</td>\n",
       "      <td>94.5</td>\n",
       "      <td>0.822681</td>\n",
       "      <td>0.909722</td>\n",
       "      <td>0.876254</td>\n",
       "      <td>2823</td>\n",
       "      <td>ohcv</td>\n",
       "      <td>six</td>\n",
       "      <td>152</td>\n",
       "      <td>mpfi</td>\n",
       "      <td>2.68</td>\n",
       "      <td>3.47</td>\n",
       "      <td>9.0</td>\n",
       "      <td>154</td>\n",
       "      <td>5000.0</td>\n",
       "      <td>19</td>\n",
       "      <td>9.038462</td>\n",
       "      <td>16500.0</td>\n",
       "      <td>12.368421</td>\n",
       "      <td>Medium</td>\n",
       "      <td>0</td>\n",
       "      <td>1</td>\n",
       "      <td>1</td>\n",
       "      <td>0</td>\n",
       "    </tr>\n",
       "    <tr>\n",
       "      <th>2</th>\n",
       "      <td>2</td>\n",
       "      <td>164</td>\n",
       "      <td>audi</td>\n",
       "      <td>four</td>\n",
       "      <td>sedan</td>\n",
       "      <td>fwd</td>\n",
       "      <td>front</td>\n",
       "      <td>99.8</td>\n",
       "      <td>0.848630</td>\n",
       "      <td>0.919444</td>\n",
       "      <td>0.908027</td>\n",
       "      <td>2337</td>\n",
       "      <td>ohc</td>\n",
       "      <td>four</td>\n",
       "      <td>109</td>\n",
       "      <td>mpfi</td>\n",
       "      <td>3.19</td>\n",
       "      <td>3.40</td>\n",
       "      <td>10.0</td>\n",
       "      <td>102</td>\n",
       "      <td>5500.0</td>\n",
       "      <td>24</td>\n",
       "      <td>7.833333</td>\n",
       "      <td>13950.0</td>\n",
       "      <td>9.791667</td>\n",
       "      <td>Low</td>\n",
       "      <td>0</td>\n",
       "      <td>1</td>\n",
       "      <td>1</td>\n",
       "      <td>0</td>\n",
       "    </tr>\n",
       "    <tr>\n",
       "      <th>3</th>\n",
       "      <td>2</td>\n",
       "      <td>164</td>\n",
       "      <td>audi</td>\n",
       "      <td>four</td>\n",
       "      <td>sedan</td>\n",
       "      <td>4wd</td>\n",
       "      <td>front</td>\n",
       "      <td>99.4</td>\n",
       "      <td>0.848630</td>\n",
       "      <td>0.922222</td>\n",
       "      <td>0.908027</td>\n",
       "      <td>2824</td>\n",
       "      <td>ohc</td>\n",
       "      <td>five</td>\n",
       "      <td>136</td>\n",
       "      <td>mpfi</td>\n",
       "      <td>3.19</td>\n",
       "      <td>3.40</td>\n",
       "      <td>8.0</td>\n",
       "      <td>115</td>\n",
       "      <td>5500.0</td>\n",
       "      <td>18</td>\n",
       "      <td>10.681818</td>\n",
       "      <td>17450.0</td>\n",
       "      <td>13.055556</td>\n",
       "      <td>Low</td>\n",
       "      <td>0</td>\n",
       "      <td>1</td>\n",
       "      <td>1</td>\n",
       "      <td>0</td>\n",
       "    </tr>\n",
       "    <tr>\n",
       "      <th>4</th>\n",
       "      <td>2</td>\n",
       "      <td>122</td>\n",
       "      <td>audi</td>\n",
       "      <td>two</td>\n",
       "      <td>sedan</td>\n",
       "      <td>fwd</td>\n",
       "      <td>front</td>\n",
       "      <td>99.8</td>\n",
       "      <td>0.851994</td>\n",
       "      <td>0.920833</td>\n",
       "      <td>0.887960</td>\n",
       "      <td>2507</td>\n",
       "      <td>ohc</td>\n",
       "      <td>five</td>\n",
       "      <td>136</td>\n",
       "      <td>mpfi</td>\n",
       "      <td>3.19</td>\n",
       "      <td>3.40</td>\n",
       "      <td>8.5</td>\n",
       "      <td>110</td>\n",
       "      <td>5500.0</td>\n",
       "      <td>19</td>\n",
       "      <td>9.400000</td>\n",
       "      <td>15250.0</td>\n",
       "      <td>12.368421</td>\n",
       "      <td>Low</td>\n",
       "      <td>0</td>\n",
       "      <td>1</td>\n",
       "      <td>1</td>\n",
       "      <td>0</td>\n",
       "    </tr>\n",
       "  </tbody>\n",
       "</table>\n",
       "</div>"
      ],
      "text/plain": [
       "   symboling  normalized-losses         make num-of-doors   body-style  \\\n",
       "0          3                122  alfa-romero          two  convertible   \n",
       "1          1                122  alfa-romero          two    hatchback   \n",
       "2          2                164         audi         four        sedan   \n",
       "3          2                164         audi         four        sedan   \n",
       "4          2                122         audi          two        sedan   \n",
       "\n",
       "  drive-wheels engine-location  wheel-base    length     width    height  \\\n",
       "0          rwd           front        88.6  0.811148  0.890278  0.816054   \n",
       "1          rwd           front        94.5  0.822681  0.909722  0.876254   \n",
       "2          fwd           front        99.8  0.848630  0.919444  0.908027   \n",
       "3          4wd           front        99.4  0.848630  0.922222  0.908027   \n",
       "4          fwd           front        99.8  0.851994  0.920833  0.887960   \n",
       "\n",
       "   curb-weight engine-type num-of-cylinders  engine-size fuel-system  bore  \\\n",
       "0         2548        dohc             four          130        mpfi  3.47   \n",
       "1         2823        ohcv              six          152        mpfi  2.68   \n",
       "2         2337         ohc             four          109        mpfi  3.19   \n",
       "3         2824         ohc             five          136        mpfi  3.19   \n",
       "4         2507         ohc             five          136        mpfi  3.19   \n",
       "\n",
       "   stroke  compression-ratio  horsepower  peak-rpm  city-mpg  highway-L/100km  \\\n",
       "0    2.68                9.0         111    5000.0        21         8.703704   \n",
       "1    3.47                9.0         154    5000.0        19         9.038462   \n",
       "2    3.40               10.0         102    5500.0        24         7.833333   \n",
       "3    3.40                8.0         115    5500.0        18        10.681818   \n",
       "4    3.40                8.5         110    5500.0        19         9.400000   \n",
       "\n",
       "     price  city-L/100km horsepower-binned  diesel  gas  std  turbo  \n",
       "0  16500.0     11.190476               Low       0    1    1      0  \n",
       "1  16500.0     12.368421            Medium       0    1    1      0  \n",
       "2  13950.0      9.791667               Low       0    1    1      0  \n",
       "3  17450.0     13.055556               Low       0    1    1      0  \n",
       "4  15250.0     12.368421               Low       0    1    1      0  "
      ]
     },
     "execution_count": 10,
     "metadata": {},
     "output_type": "execute_result"
    }
   ],
   "source": [
    "df.head()"
   ]
  },
  {
   "cell_type": "markdown",
   "metadata": {},
   "source": [
    "## Analyzing Individual Feature Patterns using Visualization"
   ]
  },
  {
   "cell_type": "markdown",
   "metadata": {},
   "source": [
    "<h4>How to choose the right visualization method?</h4>\n",
    "<p>When visualizing individual variables, it is important to first understand what type of variable you are dealing with. This will help us find the right visualization method for that variable.</p>\n"
   ]
  },
  {
   "cell_type": "code",
   "execution_count": 162,
   "metadata": {},
   "outputs": [
    {
     "data": {
      "text/html": [
       "<div>\n",
       "<style scoped>\n",
       "    .dataframe tbody tr th:only-of-type {\n",
       "        vertical-align: middle;\n",
       "    }\n",
       "\n",
       "    .dataframe tbody tr th {\n",
       "        vertical-align: top;\n",
       "    }\n",
       "\n",
       "    .dataframe thead th {\n",
       "        text-align: right;\n",
       "    }\n",
       "</style>\n",
       "<table border=\"1\" class=\"dataframe\">\n",
       "  <thead>\n",
       "    <tr style=\"text-align: right;\">\n",
       "      <th></th>\n",
       "      <th>Unnamed: 0</th>\n",
       "      <th>symboling</th>\n",
       "      <th>normalized-losses</th>\n",
       "      <th>make</th>\n",
       "      <th>num-of-doors</th>\n",
       "      <th>body-style</th>\n",
       "      <th>drive-wheels</th>\n",
       "      <th>engine-location</th>\n",
       "      <th>wheel-base</th>\n",
       "      <th>length</th>\n",
       "      <th>width</th>\n",
       "      <th>height</th>\n",
       "      <th>curb-weight</th>\n",
       "      <th>engine-type</th>\n",
       "      <th>num-of-cylinders</th>\n",
       "      <th>engine-size</th>\n",
       "      <th>fuel-system</th>\n",
       "      <th>bore</th>\n",
       "      <th>stroke</th>\n",
       "      <th>compression-ratio</th>\n",
       "      <th>horsepower</th>\n",
       "      <th>peak-rpm</th>\n",
       "      <th>city-mpg</th>\n",
       "      <th>highway-mpg</th>\n",
       "      <th>price</th>\n",
       "      <th>city-L/100km</th>\n",
       "      <th>horsepower-binned</th>\n",
       "      <th>diesel</th>\n",
       "      <th>gas</th>\n",
       "      <th>std</th>\n",
       "      <th>turbo</th>\n",
       "    </tr>\n",
       "  </thead>\n",
       "  <tbody>\n",
       "    <tr>\n",
       "      <th>0</th>\n",
       "      <td>int64</td>\n",
       "      <td>int64</td>\n",
       "      <td>int64</td>\n",
       "      <td>object</td>\n",
       "      <td>object</td>\n",
       "      <td>object</td>\n",
       "      <td>object</td>\n",
       "      <td>object</td>\n",
       "      <td>float64</td>\n",
       "      <td>float64</td>\n",
       "      <td>float64</td>\n",
       "      <td>float64</td>\n",
       "      <td>int64</td>\n",
       "      <td>object</td>\n",
       "      <td>object</td>\n",
       "      <td>int64</td>\n",
       "      <td>object</td>\n",
       "      <td>float64</td>\n",
       "      <td>float64</td>\n",
       "      <td>float64</td>\n",
       "      <td>int64</td>\n",
       "      <td>float64</td>\n",
       "      <td>int64</td>\n",
       "      <td>int64</td>\n",
       "      <td>float64</td>\n",
       "      <td>float64</td>\n",
       "      <td>object</td>\n",
       "      <td>int64</td>\n",
       "      <td>int64</td>\n",
       "      <td>int64</td>\n",
       "      <td>int64</td>\n",
       "    </tr>\n",
       "  </tbody>\n",
       "</table>\n",
       "</div>"
      ],
      "text/plain": [
       "  Unnamed: 0 symboling normalized-losses    make num-of-doors body-style  \\\n",
       "0      int64     int64             int64  object       object     object   \n",
       "\n",
       "  drive-wheels engine-location wheel-base   length    width   height  \\\n",
       "0       object          object    float64  float64  float64  float64   \n",
       "\n",
       "  curb-weight engine-type num-of-cylinders engine-size fuel-system     bore  \\\n",
       "0       int64      object           object       int64      object  float64   \n",
       "\n",
       "    stroke compression-ratio horsepower peak-rpm city-mpg highway-mpg  \\\n",
       "0  float64           float64      int64  float64    int64       int64   \n",
       "\n",
       "     price city-L/100km horsepower-binned diesel    gas    std  turbo  \n",
       "0  float64      float64            object  int64  int64  int64  int64  "
      ]
     },
     "execution_count": 162,
     "metadata": {},
     "output_type": "execute_result"
    }
   ],
   "source": [
    "pd.DataFrame(df.dtypes).T"
   ]
  },
  {
   "cell_type": "markdown",
   "metadata": {},
   "source": [
    "We can calculate the correlation between variables  of type \"int64\" or \"float64\" using the method \"corr\":"
   ]
  },
  {
   "cell_type": "code",
   "execution_count": 163,
   "metadata": {},
   "outputs": [
    {
     "data": {
      "text/html": [
       "<div>\n",
       "<style scoped>\n",
       "    .dataframe tbody tr th:only-of-type {\n",
       "        vertical-align: middle;\n",
       "    }\n",
       "\n",
       "    .dataframe tbody tr th {\n",
       "        vertical-align: top;\n",
       "    }\n",
       "\n",
       "    .dataframe thead th {\n",
       "        text-align: right;\n",
       "    }\n",
       "</style>\n",
       "<table border=\"1\" class=\"dataframe\">\n",
       "  <thead>\n",
       "    <tr style=\"text-align: right;\">\n",
       "      <th></th>\n",
       "      <th>Unnamed: 0</th>\n",
       "      <th>symboling</th>\n",
       "      <th>normalized-losses</th>\n",
       "      <th>wheel-base</th>\n",
       "      <th>length</th>\n",
       "      <th>width</th>\n",
       "      <th>height</th>\n",
       "      <th>curb-weight</th>\n",
       "      <th>engine-size</th>\n",
       "      <th>bore</th>\n",
       "      <th>stroke</th>\n",
       "      <th>compression-ratio</th>\n",
       "      <th>horsepower</th>\n",
       "      <th>peak-rpm</th>\n",
       "      <th>city-mpg</th>\n",
       "      <th>highway-mpg</th>\n",
       "      <th>price</th>\n",
       "      <th>city-L/100km</th>\n",
       "      <th>diesel</th>\n",
       "      <th>gas</th>\n",
       "      <th>std</th>\n",
       "      <th>turbo</th>\n",
       "    </tr>\n",
       "  </thead>\n",
       "  <tbody>\n",
       "    <tr>\n",
       "      <th>Unnamed: 0</th>\n",
       "      <td>1.000000</td>\n",
       "      <td>-0.150130</td>\n",
       "      <td>-0.242903</td>\n",
       "      <td>0.112632</td>\n",
       "      <td>0.159326</td>\n",
       "      <td>0.036964</td>\n",
       "      <td>0.238730</td>\n",
       "      <td>0.065178</td>\n",
       "      <td>-0.047468</td>\n",
       "      <td>0.251308</td>\n",
       "      <td>-0.181269</td>\n",
       "      <td>0.142885</td>\n",
       "      <td>-0.020907</td>\n",
       "      <td>-0.199298</td>\n",
       "      <td>0.022527</td>\n",
       "      <td>0.015801</td>\n",
       "      <td>-0.118787</td>\n",
       "      <td>-0.095680</td>\n",
       "      <td>0.119513</td>\n",
       "      <td>-0.119513</td>\n",
       "      <td>-0.079348</td>\n",
       "      <td>0.079348</td>\n",
       "    </tr>\n",
       "    <tr>\n",
       "      <th>symboling</th>\n",
       "      <td>-0.150130</td>\n",
       "      <td>1.000000</td>\n",
       "      <td>0.469772</td>\n",
       "      <td>-0.529145</td>\n",
       "      <td>-0.364511</td>\n",
       "      <td>-0.237262</td>\n",
       "      <td>-0.542261</td>\n",
       "      <td>-0.234743</td>\n",
       "      <td>-0.112069</td>\n",
       "      <td>-0.145790</td>\n",
       "      <td>0.008072</td>\n",
       "      <td>-0.181073</td>\n",
       "      <td>0.074617</td>\n",
       "      <td>0.284033</td>\n",
       "      <td>-0.030158</td>\n",
       "      <td>0.041248</td>\n",
       "      <td>-0.083327</td>\n",
       "      <td>0.062423</td>\n",
       "      <td>-0.195381</td>\n",
       "      <td>0.195381</td>\n",
       "      <td>0.050995</td>\n",
       "      <td>-0.050995</td>\n",
       "    </tr>\n",
       "    <tr>\n",
       "      <th>normalized-losses</th>\n",
       "      <td>-0.242903</td>\n",
       "      <td>0.469772</td>\n",
       "      <td>1.000000</td>\n",
       "      <td>-0.057068</td>\n",
       "      <td>0.019433</td>\n",
       "      <td>0.086961</td>\n",
       "      <td>-0.377664</td>\n",
       "      <td>0.099404</td>\n",
       "      <td>0.112362</td>\n",
       "      <td>-0.029929</td>\n",
       "      <td>0.055673</td>\n",
       "      <td>-0.114738</td>\n",
       "      <td>0.217322</td>\n",
       "      <td>0.239580</td>\n",
       "      <td>-0.225255</td>\n",
       "      <td>-0.182011</td>\n",
       "      <td>0.133999</td>\n",
       "      <td>0.238712</td>\n",
       "      <td>-0.101574</td>\n",
       "      <td>0.101574</td>\n",
       "      <td>0.006915</td>\n",
       "      <td>-0.006915</td>\n",
       "    </tr>\n",
       "    <tr>\n",
       "      <th>wheel-base</th>\n",
       "      <td>0.112632</td>\n",
       "      <td>-0.529145</td>\n",
       "      <td>-0.057068</td>\n",
       "      <td>1.000000</td>\n",
       "      <td>0.879005</td>\n",
       "      <td>0.814593</td>\n",
       "      <td>0.583789</td>\n",
       "      <td>0.787584</td>\n",
       "      <td>0.576779</td>\n",
       "      <td>0.501576</td>\n",
       "      <td>0.144733</td>\n",
       "      <td>0.249689</td>\n",
       "      <td>0.375610</td>\n",
       "      <td>-0.365045</td>\n",
       "      <td>-0.480029</td>\n",
       "      <td>-0.552211</td>\n",
       "      <td>0.589147</td>\n",
       "      <td>0.484047</td>\n",
       "      <td>0.306706</td>\n",
       "      <td>-0.306706</td>\n",
       "      <td>-0.254907</td>\n",
       "      <td>0.254907</td>\n",
       "    </tr>\n",
       "    <tr>\n",
       "      <th>length</th>\n",
       "      <td>0.159326</td>\n",
       "      <td>-0.364511</td>\n",
       "      <td>0.019433</td>\n",
       "      <td>0.879005</td>\n",
       "      <td>1.000000</td>\n",
       "      <td>0.857271</td>\n",
       "      <td>0.492955</td>\n",
       "      <td>0.881058</td>\n",
       "      <td>0.685531</td>\n",
       "      <td>0.610847</td>\n",
       "      <td>0.120929</td>\n",
       "      <td>0.159203</td>\n",
       "      <td>0.580583</td>\n",
       "      <td>-0.286688</td>\n",
       "      <td>-0.667658</td>\n",
       "      <td>-0.700186</td>\n",
       "      <td>0.691044</td>\n",
       "      <td>0.659174</td>\n",
       "      <td>0.210616</td>\n",
       "      <td>-0.210616</td>\n",
       "      <td>-0.229294</td>\n",
       "      <td>0.229294</td>\n",
       "    </tr>\n",
       "    <tr>\n",
       "      <th>width</th>\n",
       "      <td>0.036964</td>\n",
       "      <td>-0.237262</td>\n",
       "      <td>0.086961</td>\n",
       "      <td>0.814593</td>\n",
       "      <td>0.857271</td>\n",
       "      <td>1.000000</td>\n",
       "      <td>0.300995</td>\n",
       "      <td>0.867720</td>\n",
       "      <td>0.731100</td>\n",
       "      <td>0.548485</td>\n",
       "      <td>0.182864</td>\n",
       "      <td>0.189008</td>\n",
       "      <td>0.617115</td>\n",
       "      <td>-0.247337</td>\n",
       "      <td>-0.638155</td>\n",
       "      <td>-0.684700</td>\n",
       "      <td>0.752795</td>\n",
       "      <td>0.677111</td>\n",
       "      <td>0.243448</td>\n",
       "      <td>-0.243448</td>\n",
       "      <td>-0.304459</td>\n",
       "      <td>0.304459</td>\n",
       "    </tr>\n",
       "    <tr>\n",
       "      <th>height</th>\n",
       "      <td>0.238730</td>\n",
       "      <td>-0.542261</td>\n",
       "      <td>-0.377664</td>\n",
       "      <td>0.583789</td>\n",
       "      <td>0.492955</td>\n",
       "      <td>0.300995</td>\n",
       "      <td>1.000000</td>\n",
       "      <td>0.310660</td>\n",
       "      <td>0.076255</td>\n",
       "      <td>0.187917</td>\n",
       "      <td>-0.081103</td>\n",
       "      <td>0.259526</td>\n",
       "      <td>-0.085829</td>\n",
       "      <td>-0.315820</td>\n",
       "      <td>-0.057087</td>\n",
       "      <td>-0.111568</td>\n",
       "      <td>0.137284</td>\n",
       "      <td>0.008923</td>\n",
       "      <td>0.281198</td>\n",
       "      <td>-0.281198</td>\n",
       "      <td>-0.086531</td>\n",
       "      <td>0.086531</td>\n",
       "    </tr>\n",
       "    <tr>\n",
       "      <th>curb-weight</th>\n",
       "      <td>0.065178</td>\n",
       "      <td>-0.234743</td>\n",
       "      <td>0.099404</td>\n",
       "      <td>0.787584</td>\n",
       "      <td>0.881058</td>\n",
       "      <td>0.867720</td>\n",
       "      <td>0.310660</td>\n",
       "      <td>1.000000</td>\n",
       "      <td>0.849090</td>\n",
       "      <td>0.644552</td>\n",
       "      <td>0.168669</td>\n",
       "      <td>0.156444</td>\n",
       "      <td>0.758076</td>\n",
       "      <td>-0.279422</td>\n",
       "      <td>-0.750390</td>\n",
       "      <td>-0.795515</td>\n",
       "      <td>0.834420</td>\n",
       "      <td>0.785868</td>\n",
       "      <td>0.221082</td>\n",
       "      <td>-0.221082</td>\n",
       "      <td>-0.322097</td>\n",
       "      <td>0.322097</td>\n",
       "    </tr>\n",
       "    <tr>\n",
       "      <th>engine-size</th>\n",
       "      <td>-0.047468</td>\n",
       "      <td>-0.112069</td>\n",
       "      <td>0.112362</td>\n",
       "      <td>0.576779</td>\n",
       "      <td>0.685531</td>\n",
       "      <td>0.731100</td>\n",
       "      <td>0.076255</td>\n",
       "      <td>0.849090</td>\n",
       "      <td>1.000000</td>\n",
       "      <td>0.572878</td>\n",
       "      <td>0.208133</td>\n",
       "      <td>0.029005</td>\n",
       "      <td>0.822689</td>\n",
       "      <td>-0.256681</td>\n",
       "      <td>-0.651002</td>\n",
       "      <td>-0.679877</td>\n",
       "      <td>0.872337</td>\n",
       "      <td>0.745337</td>\n",
       "      <td>0.070925</td>\n",
       "      <td>-0.070925</td>\n",
       "      <td>-0.110278</td>\n",
       "      <td>0.110278</td>\n",
       "    </tr>\n",
       "    <tr>\n",
       "      <th>bore</th>\n",
       "      <td>0.251308</td>\n",
       "      <td>-0.145790</td>\n",
       "      <td>-0.029929</td>\n",
       "      <td>0.501576</td>\n",
       "      <td>0.610847</td>\n",
       "      <td>0.548485</td>\n",
       "      <td>0.187917</td>\n",
       "      <td>0.644552</td>\n",
       "      <td>0.572878</td>\n",
       "      <td>1.000000</td>\n",
       "      <td>-0.051087</td>\n",
       "      <td>0.002034</td>\n",
       "      <td>0.566807</td>\n",
       "      <td>-0.267061</td>\n",
       "      <td>-0.581272</td>\n",
       "      <td>-0.590672</td>\n",
       "      <td>0.543433</td>\n",
       "      <td>0.553954</td>\n",
       "      <td>0.055395</td>\n",
       "      <td>-0.055395</td>\n",
       "      <td>-0.229338</td>\n",
       "      <td>0.229338</td>\n",
       "    </tr>\n",
       "    <tr>\n",
       "      <th>stroke</th>\n",
       "      <td>-0.181269</td>\n",
       "      <td>0.008072</td>\n",
       "      <td>0.055673</td>\n",
       "      <td>0.144733</td>\n",
       "      <td>0.120929</td>\n",
       "      <td>0.182864</td>\n",
       "      <td>-0.081103</td>\n",
       "      <td>0.168669</td>\n",
       "      <td>0.208133</td>\n",
       "      <td>-0.051087</td>\n",
       "      <td>1.000000</td>\n",
       "      <td>0.186780</td>\n",
       "      <td>0.100881</td>\n",
       "      <td>-0.066021</td>\n",
       "      <td>-0.040547</td>\n",
       "      <td>-0.040170</td>\n",
       "      <td>0.083298</td>\n",
       "      <td>0.041310</td>\n",
       "      <td>0.240046</td>\n",
       "      <td>-0.240046</td>\n",
       "      <td>-0.215805</td>\n",
       "      <td>0.215805</td>\n",
       "    </tr>\n",
       "    <tr>\n",
       "      <th>compression-ratio</th>\n",
       "      <td>0.142885</td>\n",
       "      <td>-0.181073</td>\n",
       "      <td>-0.114738</td>\n",
       "      <td>0.249689</td>\n",
       "      <td>0.159203</td>\n",
       "      <td>0.189008</td>\n",
       "      <td>0.259526</td>\n",
       "      <td>0.156444</td>\n",
       "      <td>0.029005</td>\n",
       "      <td>0.002034</td>\n",
       "      <td>0.186780</td>\n",
       "      <td>1.000000</td>\n",
       "      <td>-0.214260</td>\n",
       "      <td>-0.436303</td>\n",
       "      <td>0.330897</td>\n",
       "      <td>0.267929</td>\n",
       "      <td>0.071176</td>\n",
       "      <td>-0.298898</td>\n",
       "      <td>0.985228</td>\n",
       "      <td>-0.985228</td>\n",
       "      <td>-0.307074</td>\n",
       "      <td>0.307074</td>\n",
       "    </tr>\n",
       "    <tr>\n",
       "      <th>horsepower</th>\n",
       "      <td>-0.020907</td>\n",
       "      <td>0.074617</td>\n",
       "      <td>0.217322</td>\n",
       "      <td>0.375610</td>\n",
       "      <td>0.580583</td>\n",
       "      <td>0.617115</td>\n",
       "      <td>-0.085829</td>\n",
       "      <td>0.758076</td>\n",
       "      <td>0.822689</td>\n",
       "      <td>0.566807</td>\n",
       "      <td>0.100881</td>\n",
       "      <td>-0.214260</td>\n",
       "      <td>1.000000</td>\n",
       "      <td>0.108163</td>\n",
       "      <td>-0.822488</td>\n",
       "      <td>-0.804702</td>\n",
       "      <td>0.809657</td>\n",
       "      <td>0.889613</td>\n",
       "      <td>-0.168755</td>\n",
       "      <td>0.168755</td>\n",
       "      <td>-0.251799</td>\n",
       "      <td>0.251799</td>\n",
       "    </tr>\n",
       "    <tr>\n",
       "      <th>peak-rpm</th>\n",
       "      <td>-0.199298</td>\n",
       "      <td>0.284033</td>\n",
       "      <td>0.239580</td>\n",
       "      <td>-0.365045</td>\n",
       "      <td>-0.286688</td>\n",
       "      <td>-0.247337</td>\n",
       "      <td>-0.315820</td>\n",
       "      <td>-0.279422</td>\n",
       "      <td>-0.256681</td>\n",
       "      <td>-0.267061</td>\n",
       "      <td>-0.066021</td>\n",
       "      <td>-0.436303</td>\n",
       "      <td>0.108163</td>\n",
       "      <td>1.000000</td>\n",
       "      <td>-0.116364</td>\n",
       "      <td>-0.059319</td>\n",
       "      <td>-0.101593</td>\n",
       "      <td>0.116528</td>\n",
       "      <td>-0.476430</td>\n",
       "      <td>0.476430</td>\n",
       "      <td>0.190772</td>\n",
       "      <td>-0.190772</td>\n",
       "    </tr>\n",
       "    <tr>\n",
       "      <th>city-mpg</th>\n",
       "      <td>0.022527</td>\n",
       "      <td>-0.030158</td>\n",
       "      <td>-0.225255</td>\n",
       "      <td>-0.480029</td>\n",
       "      <td>-0.667658</td>\n",
       "      <td>-0.638155</td>\n",
       "      <td>-0.057087</td>\n",
       "      <td>-0.750390</td>\n",
       "      <td>-0.651002</td>\n",
       "      <td>-0.581272</td>\n",
       "      <td>-0.040547</td>\n",
       "      <td>0.330897</td>\n",
       "      <td>-0.822488</td>\n",
       "      <td>-0.116364</td>\n",
       "      <td>1.000000</td>\n",
       "      <td>0.972024</td>\n",
       "      <td>-0.687186</td>\n",
       "      <td>-0.949692</td>\n",
       "      <td>0.264947</td>\n",
       "      <td>-0.264947</td>\n",
       "      <td>0.191068</td>\n",
       "      <td>-0.191068</td>\n",
       "    </tr>\n",
       "    <tr>\n",
       "      <th>highway-mpg</th>\n",
       "      <td>0.015801</td>\n",
       "      <td>0.041248</td>\n",
       "      <td>-0.182011</td>\n",
       "      <td>-0.552211</td>\n",
       "      <td>-0.700186</td>\n",
       "      <td>-0.684700</td>\n",
       "      <td>-0.111568</td>\n",
       "      <td>-0.795515</td>\n",
       "      <td>-0.679877</td>\n",
       "      <td>-0.590672</td>\n",
       "      <td>-0.040170</td>\n",
       "      <td>0.267929</td>\n",
       "      <td>-0.804702</td>\n",
       "      <td>-0.059319</td>\n",
       "      <td>0.972024</td>\n",
       "      <td>1.000000</td>\n",
       "      <td>-0.705115</td>\n",
       "      <td>-0.929940</td>\n",
       "      <td>0.197989</td>\n",
       "      <td>-0.197989</td>\n",
       "      <td>0.243429</td>\n",
       "      <td>-0.243429</td>\n",
       "    </tr>\n",
       "    <tr>\n",
       "      <th>price</th>\n",
       "      <td>-0.118787</td>\n",
       "      <td>-0.083327</td>\n",
       "      <td>0.133999</td>\n",
       "      <td>0.589147</td>\n",
       "      <td>0.691044</td>\n",
       "      <td>0.752795</td>\n",
       "      <td>0.137284</td>\n",
       "      <td>0.834420</td>\n",
       "      <td>0.872337</td>\n",
       "      <td>0.543433</td>\n",
       "      <td>0.083298</td>\n",
       "      <td>0.071176</td>\n",
       "      <td>0.809657</td>\n",
       "      <td>-0.101593</td>\n",
       "      <td>-0.687186</td>\n",
       "      <td>-0.705115</td>\n",
       "      <td>1.000000</td>\n",
       "      <td>0.790291</td>\n",
       "      <td>0.110417</td>\n",
       "      <td>-0.110417</td>\n",
       "      <td>-0.179762</td>\n",
       "      <td>0.179762</td>\n",
       "    </tr>\n",
       "    <tr>\n",
       "      <th>city-L/100km</th>\n",
       "      <td>-0.095680</td>\n",
       "      <td>0.062423</td>\n",
       "      <td>0.238712</td>\n",
       "      <td>0.484047</td>\n",
       "      <td>0.659174</td>\n",
       "      <td>0.677111</td>\n",
       "      <td>0.008923</td>\n",
       "      <td>0.785868</td>\n",
       "      <td>0.745337</td>\n",
       "      <td>0.553954</td>\n",
       "      <td>0.041310</td>\n",
       "      <td>-0.298898</td>\n",
       "      <td>0.889613</td>\n",
       "      <td>0.116528</td>\n",
       "      <td>-0.949692</td>\n",
       "      <td>-0.929940</td>\n",
       "      <td>0.790291</td>\n",
       "      <td>1.000000</td>\n",
       "      <td>-0.240676</td>\n",
       "      <td>0.240676</td>\n",
       "      <td>-0.158912</td>\n",
       "      <td>0.158912</td>\n",
       "    </tr>\n",
       "    <tr>\n",
       "      <th>diesel</th>\n",
       "      <td>0.119513</td>\n",
       "      <td>-0.195381</td>\n",
       "      <td>-0.101574</td>\n",
       "      <td>0.306706</td>\n",
       "      <td>0.210616</td>\n",
       "      <td>0.243448</td>\n",
       "      <td>0.281198</td>\n",
       "      <td>0.221082</td>\n",
       "      <td>0.070925</td>\n",
       "      <td>0.055395</td>\n",
       "      <td>0.240046</td>\n",
       "      <td>0.985228</td>\n",
       "      <td>-0.168755</td>\n",
       "      <td>-0.476430</td>\n",
       "      <td>0.264947</td>\n",
       "      <td>0.197989</td>\n",
       "      <td>0.110417</td>\n",
       "      <td>-0.240676</td>\n",
       "      <td>1.000000</td>\n",
       "      <td>-1.000000</td>\n",
       "      <td>-0.407787</td>\n",
       "      <td>0.407787</td>\n",
       "    </tr>\n",
       "    <tr>\n",
       "      <th>gas</th>\n",
       "      <td>-0.119513</td>\n",
       "      <td>0.195381</td>\n",
       "      <td>0.101574</td>\n",
       "      <td>-0.306706</td>\n",
       "      <td>-0.210616</td>\n",
       "      <td>-0.243448</td>\n",
       "      <td>-0.281198</td>\n",
       "      <td>-0.221082</td>\n",
       "      <td>-0.070925</td>\n",
       "      <td>-0.055395</td>\n",
       "      <td>-0.240046</td>\n",
       "      <td>-0.985228</td>\n",
       "      <td>0.168755</td>\n",
       "      <td>0.476430</td>\n",
       "      <td>-0.264947</td>\n",
       "      <td>-0.197989</td>\n",
       "      <td>-0.110417</td>\n",
       "      <td>0.240676</td>\n",
       "      <td>-1.000000</td>\n",
       "      <td>1.000000</td>\n",
       "      <td>0.407787</td>\n",
       "      <td>-0.407787</td>\n",
       "    </tr>\n",
       "    <tr>\n",
       "      <th>std</th>\n",
       "      <td>-0.079348</td>\n",
       "      <td>0.050995</td>\n",
       "      <td>0.006915</td>\n",
       "      <td>-0.254907</td>\n",
       "      <td>-0.229294</td>\n",
       "      <td>-0.304459</td>\n",
       "      <td>-0.086531</td>\n",
       "      <td>-0.322097</td>\n",
       "      <td>-0.110278</td>\n",
       "      <td>-0.229338</td>\n",
       "      <td>-0.215805</td>\n",
       "      <td>-0.307074</td>\n",
       "      <td>-0.251799</td>\n",
       "      <td>0.190772</td>\n",
       "      <td>0.191068</td>\n",
       "      <td>0.243429</td>\n",
       "      <td>-0.179762</td>\n",
       "      <td>-0.158912</td>\n",
       "      <td>-0.407787</td>\n",
       "      <td>0.407787</td>\n",
       "      <td>1.000000</td>\n",
       "      <td>-1.000000</td>\n",
       "    </tr>\n",
       "    <tr>\n",
       "      <th>turbo</th>\n",
       "      <td>0.079348</td>\n",
       "      <td>-0.050995</td>\n",
       "      <td>-0.006915</td>\n",
       "      <td>0.254907</td>\n",
       "      <td>0.229294</td>\n",
       "      <td>0.304459</td>\n",
       "      <td>0.086531</td>\n",
       "      <td>0.322097</td>\n",
       "      <td>0.110278</td>\n",
       "      <td>0.229338</td>\n",
       "      <td>0.215805</td>\n",
       "      <td>0.307074</td>\n",
       "      <td>0.251799</td>\n",
       "      <td>-0.190772</td>\n",
       "      <td>-0.191068</td>\n",
       "      <td>-0.243429</td>\n",
       "      <td>0.179762</td>\n",
       "      <td>0.158912</td>\n",
       "      <td>0.407787</td>\n",
       "      <td>-0.407787</td>\n",
       "      <td>-1.000000</td>\n",
       "      <td>1.000000</td>\n",
       "    </tr>\n",
       "  </tbody>\n",
       "</table>\n",
       "</div>"
      ],
      "text/plain": [
       "                   Unnamed: 0  symboling  normalized-losses  wheel-base  \\\n",
       "Unnamed: 0           1.000000  -0.150130          -0.242903    0.112632   \n",
       "symboling           -0.150130   1.000000           0.469772   -0.529145   \n",
       "normalized-losses   -0.242903   0.469772           1.000000   -0.057068   \n",
       "wheel-base           0.112632  -0.529145          -0.057068    1.000000   \n",
       "length               0.159326  -0.364511           0.019433    0.879005   \n",
       "width                0.036964  -0.237262           0.086961    0.814593   \n",
       "height               0.238730  -0.542261          -0.377664    0.583789   \n",
       "curb-weight          0.065178  -0.234743           0.099404    0.787584   \n",
       "engine-size         -0.047468  -0.112069           0.112362    0.576779   \n",
       "bore                 0.251308  -0.145790          -0.029929    0.501576   \n",
       "stroke              -0.181269   0.008072           0.055673    0.144733   \n",
       "compression-ratio    0.142885  -0.181073          -0.114738    0.249689   \n",
       "horsepower          -0.020907   0.074617           0.217322    0.375610   \n",
       "peak-rpm            -0.199298   0.284033           0.239580   -0.365045   \n",
       "city-mpg             0.022527  -0.030158          -0.225255   -0.480029   \n",
       "highway-mpg          0.015801   0.041248          -0.182011   -0.552211   \n",
       "price               -0.118787  -0.083327           0.133999    0.589147   \n",
       "city-L/100km        -0.095680   0.062423           0.238712    0.484047   \n",
       "diesel               0.119513  -0.195381          -0.101574    0.306706   \n",
       "gas                 -0.119513   0.195381           0.101574   -0.306706   \n",
       "std                 -0.079348   0.050995           0.006915   -0.254907   \n",
       "turbo                0.079348  -0.050995          -0.006915    0.254907   \n",
       "\n",
       "                     length     width    height  curb-weight  engine-size  \\\n",
       "Unnamed: 0         0.159326  0.036964  0.238730     0.065178    -0.047468   \n",
       "symboling         -0.364511 -0.237262 -0.542261    -0.234743    -0.112069   \n",
       "normalized-losses  0.019433  0.086961 -0.377664     0.099404     0.112362   \n",
       "wheel-base         0.879005  0.814593  0.583789     0.787584     0.576779   \n",
       "length             1.000000  0.857271  0.492955     0.881058     0.685531   \n",
       "width              0.857271  1.000000  0.300995     0.867720     0.731100   \n",
       "height             0.492955  0.300995  1.000000     0.310660     0.076255   \n",
       "curb-weight        0.881058  0.867720  0.310660     1.000000     0.849090   \n",
       "engine-size        0.685531  0.731100  0.076255     0.849090     1.000000   \n",
       "bore               0.610847  0.548485  0.187917     0.644552     0.572878   \n",
       "stroke             0.120929  0.182864 -0.081103     0.168669     0.208133   \n",
       "compression-ratio  0.159203  0.189008  0.259526     0.156444     0.029005   \n",
       "horsepower         0.580583  0.617115 -0.085829     0.758076     0.822689   \n",
       "peak-rpm          -0.286688 -0.247337 -0.315820    -0.279422    -0.256681   \n",
       "city-mpg          -0.667658 -0.638155 -0.057087    -0.750390    -0.651002   \n",
       "highway-mpg       -0.700186 -0.684700 -0.111568    -0.795515    -0.679877   \n",
       "price              0.691044  0.752795  0.137284     0.834420     0.872337   \n",
       "city-L/100km       0.659174  0.677111  0.008923     0.785868     0.745337   \n",
       "diesel             0.210616  0.243448  0.281198     0.221082     0.070925   \n",
       "gas               -0.210616 -0.243448 -0.281198    -0.221082    -0.070925   \n",
       "std               -0.229294 -0.304459 -0.086531    -0.322097    -0.110278   \n",
       "turbo              0.229294  0.304459  0.086531     0.322097     0.110278   \n",
       "\n",
       "                       bore    stroke  compression-ratio  horsepower  \\\n",
       "Unnamed: 0         0.251308 -0.181269           0.142885   -0.020907   \n",
       "symboling         -0.145790  0.008072          -0.181073    0.074617   \n",
       "normalized-losses -0.029929  0.055673          -0.114738    0.217322   \n",
       "wheel-base         0.501576  0.144733           0.249689    0.375610   \n",
       "length             0.610847  0.120929           0.159203    0.580583   \n",
       "width              0.548485  0.182864           0.189008    0.617115   \n",
       "height             0.187917 -0.081103           0.259526   -0.085829   \n",
       "curb-weight        0.644552  0.168669           0.156444    0.758076   \n",
       "engine-size        0.572878  0.208133           0.029005    0.822689   \n",
       "bore               1.000000 -0.051087           0.002034    0.566807   \n",
       "stroke            -0.051087  1.000000           0.186780    0.100881   \n",
       "compression-ratio  0.002034  0.186780           1.000000   -0.214260   \n",
       "horsepower         0.566807  0.100881          -0.214260    1.000000   \n",
       "peak-rpm          -0.267061 -0.066021          -0.436303    0.108163   \n",
       "city-mpg          -0.581272 -0.040547           0.330897   -0.822488   \n",
       "highway-mpg       -0.590672 -0.040170           0.267929   -0.804702   \n",
       "price              0.543433  0.083298           0.071176    0.809657   \n",
       "city-L/100km       0.553954  0.041310          -0.298898    0.889613   \n",
       "diesel             0.055395  0.240046           0.985228   -0.168755   \n",
       "gas               -0.055395 -0.240046          -0.985228    0.168755   \n",
       "std               -0.229338 -0.215805          -0.307074   -0.251799   \n",
       "turbo              0.229338  0.215805           0.307074    0.251799   \n",
       "\n",
       "                   peak-rpm  city-mpg  highway-mpg     price  city-L/100km  \\\n",
       "Unnamed: 0        -0.199298  0.022527     0.015801 -0.118787     -0.095680   \n",
       "symboling          0.284033 -0.030158     0.041248 -0.083327      0.062423   \n",
       "normalized-losses  0.239580 -0.225255    -0.182011  0.133999      0.238712   \n",
       "wheel-base        -0.365045 -0.480029    -0.552211  0.589147      0.484047   \n",
       "length            -0.286688 -0.667658    -0.700186  0.691044      0.659174   \n",
       "width             -0.247337 -0.638155    -0.684700  0.752795      0.677111   \n",
       "height            -0.315820 -0.057087    -0.111568  0.137284      0.008923   \n",
       "curb-weight       -0.279422 -0.750390    -0.795515  0.834420      0.785868   \n",
       "engine-size       -0.256681 -0.651002    -0.679877  0.872337      0.745337   \n",
       "bore              -0.267061 -0.581272    -0.590672  0.543433      0.553954   \n",
       "stroke            -0.066021 -0.040547    -0.040170  0.083298      0.041310   \n",
       "compression-ratio -0.436303  0.330897     0.267929  0.071176     -0.298898   \n",
       "horsepower         0.108163 -0.822488    -0.804702  0.809657      0.889613   \n",
       "peak-rpm           1.000000 -0.116364    -0.059319 -0.101593      0.116528   \n",
       "city-mpg          -0.116364  1.000000     0.972024 -0.687186     -0.949692   \n",
       "highway-mpg       -0.059319  0.972024     1.000000 -0.705115     -0.929940   \n",
       "price             -0.101593 -0.687186    -0.705115  1.000000      0.790291   \n",
       "city-L/100km       0.116528 -0.949692    -0.929940  0.790291      1.000000   \n",
       "diesel            -0.476430  0.264947     0.197989  0.110417     -0.240676   \n",
       "gas                0.476430 -0.264947    -0.197989 -0.110417      0.240676   \n",
       "std                0.190772  0.191068     0.243429 -0.179762     -0.158912   \n",
       "turbo             -0.190772 -0.191068    -0.243429  0.179762      0.158912   \n",
       "\n",
       "                     diesel       gas       std     turbo  \n",
       "Unnamed: 0         0.119513 -0.119513 -0.079348  0.079348  \n",
       "symboling         -0.195381  0.195381  0.050995 -0.050995  \n",
       "normalized-losses -0.101574  0.101574  0.006915 -0.006915  \n",
       "wheel-base         0.306706 -0.306706 -0.254907  0.254907  \n",
       "length             0.210616 -0.210616 -0.229294  0.229294  \n",
       "width              0.243448 -0.243448 -0.304459  0.304459  \n",
       "height             0.281198 -0.281198 -0.086531  0.086531  \n",
       "curb-weight        0.221082 -0.221082 -0.322097  0.322097  \n",
       "engine-size        0.070925 -0.070925 -0.110278  0.110278  \n",
       "bore               0.055395 -0.055395 -0.229338  0.229338  \n",
       "stroke             0.240046 -0.240046 -0.215805  0.215805  \n",
       "compression-ratio  0.985228 -0.985228 -0.307074  0.307074  \n",
       "horsepower        -0.168755  0.168755 -0.251799  0.251799  \n",
       "peak-rpm          -0.476430  0.476430  0.190772 -0.190772  \n",
       "city-mpg           0.264947 -0.264947  0.191068 -0.191068  \n",
       "highway-mpg        0.197989 -0.197989  0.243429 -0.243429  \n",
       "price              0.110417 -0.110417 -0.179762  0.179762  \n",
       "city-L/100km      -0.240676  0.240676 -0.158912  0.158912  \n",
       "diesel             1.000000 -1.000000 -0.407787  0.407787  \n",
       "gas               -1.000000  1.000000  0.407787 -0.407787  \n",
       "std               -0.407787  0.407787  1.000000 -1.000000  \n",
       "turbo              0.407787 -0.407787 -1.000000  1.000000  "
      ]
     },
     "execution_count": 163,
     "metadata": {},
     "output_type": "execute_result"
    }
   ],
   "source": [
    "df.corr()"
   ]
  },
  {
   "cell_type": "markdown",
   "metadata": {},
   "source": [
    "<p>Find the correlation between the following columns: bore, stroke,compression-ratio , and horsepower.</p>"
   ]
  },
  {
   "cell_type": "code",
   "execution_count": 164,
   "metadata": {},
   "outputs": [
    {
     "data": {
      "text/html": [
       "<div>\n",
       "<style scoped>\n",
       "    .dataframe tbody tr th:only-of-type {\n",
       "        vertical-align: middle;\n",
       "    }\n",
       "\n",
       "    .dataframe tbody tr th {\n",
       "        vertical-align: top;\n",
       "    }\n",
       "\n",
       "    .dataframe thead th {\n",
       "        text-align: right;\n",
       "    }\n",
       "</style>\n",
       "<table border=\"1\" class=\"dataframe\">\n",
       "  <thead>\n",
       "    <tr style=\"text-align: right;\">\n",
       "      <th></th>\n",
       "      <th>bore</th>\n",
       "      <th>stroke</th>\n",
       "      <th>compression-ratio</th>\n",
       "      <th>horsepower</th>\n",
       "    </tr>\n",
       "  </thead>\n",
       "  <tbody>\n",
       "    <tr>\n",
       "      <th>bore</th>\n",
       "      <td>1.000000</td>\n",
       "      <td>-0.051087</td>\n",
       "      <td>0.002034</td>\n",
       "      <td>0.566807</td>\n",
       "    </tr>\n",
       "    <tr>\n",
       "      <th>stroke</th>\n",
       "      <td>-0.051087</td>\n",
       "      <td>1.000000</td>\n",
       "      <td>0.186780</td>\n",
       "      <td>0.100881</td>\n",
       "    </tr>\n",
       "    <tr>\n",
       "      <th>compression-ratio</th>\n",
       "      <td>0.002034</td>\n",
       "      <td>0.186780</td>\n",
       "      <td>1.000000</td>\n",
       "      <td>-0.214260</td>\n",
       "    </tr>\n",
       "    <tr>\n",
       "      <th>horsepower</th>\n",
       "      <td>0.566807</td>\n",
       "      <td>0.100881</td>\n",
       "      <td>-0.214260</td>\n",
       "      <td>1.000000</td>\n",
       "    </tr>\n",
       "  </tbody>\n",
       "</table>\n",
       "</div>"
      ],
      "text/plain": [
       "                       bore    stroke  compression-ratio  horsepower\n",
       "bore               1.000000 -0.051087           0.002034    0.566807\n",
       "stroke            -0.051087  1.000000           0.186780    0.100881\n",
       "compression-ratio  0.002034  0.186780           1.000000   -0.214260\n",
       "horsepower         0.566807  0.100881          -0.214260    1.000000"
      ]
     },
     "execution_count": 164,
     "metadata": {},
     "output_type": "execute_result"
    }
   ],
   "source": [
    "df[['bore','stroke' ,'compression-ratio','horsepower']].corr()"
   ]
  },
  {
   "cell_type": "markdown",
   "metadata": {},
   "source": [
    "<h3 style=\"color:gray\">Continuous numerical variables:</h3> \n",
    "\n",
    "<p>Continuous numerical variables are variables that may contain any value within some range. Continuous numerical variables can have the type \"int64\" or \"float64\". A great way to visualize these variables is by using scatterplots with fitted lines.</p>\n",
    "\n",
    "<p>In order to start understanding the (linear) relationship between an individual variable and the price. We can do this by using \"regplot\", which plots the scatterplot plus the fitted regression line for the data.</p>"
   ]
  },
  {
   "cell_type": "markdown",
   "metadata": {},
   "source": [
    " Let's see several examples of different linear relationships:"
   ]
  },
  {
   "cell_type": "markdown",
   "metadata": {},
   "source": [
    "<h3 style=\"color:gray\">Positive linear relationship</h3>"
   ]
  },
  {
   "cell_type": "markdown",
   "metadata": {},
   "source": [
    "Let's find the scatterplot of \"engine-size\" and \"price\" "
   ]
  },
  {
   "cell_type": "code",
   "execution_count": 165,
   "metadata": {},
   "outputs": [
    {
     "data": {
      "text/plain": [
       "(0.0, 50000.0)"
      ]
     },
     "execution_count": 165,
     "metadata": {},
     "output_type": "execute_result"
    },
    {
     "data": {
      "image/png": "[encoded data removed]",
      "text/plain": [
       "<Figure size 576x396 with 1 Axes>"
      ]
     },
     "metadata": {},
     "output_type": "display_data"
    }
   ],
   "source": [
    "# Engine size as potential predictor variable of price\n",
    "sns.regplot(x=\"engine-size\", y=\"price\", data=df)\n",
    "plt.ylim(0, 50000)"
   ]
  },
  {
   "cell_type": "markdown",
   "metadata": {},
   "source": [
    "<p>As the engine-size goes up, the price goes up: this indicates a positive direct correlation between these two variables. Engine size seems like a pretty good predictor of price since the regression line is almost a perfect diagonal line.</p>"
   ]
  },
  {
   "cell_type": "markdown",
   "metadata": {},
   "source": [
    " We can examine the correlation between 'engine-size' and 'price' and see it's approximately  0.87"
   ]
  },
  {
   "cell_type": "code",
   "execution_count": 166,
   "metadata": {},
   "outputs": [
    {
     "data": {
      "text/html": [
       "<div>\n",
       "<style scoped>\n",
       "    .dataframe tbody tr th:only-of-type {\n",
       "        vertical-align: middle;\n",
       "    }\n",
       "\n",
       "    .dataframe tbody tr th {\n",
       "        vertical-align: top;\n",
       "    }\n",
       "\n",
       "    .dataframe thead th {\n",
       "        text-align: right;\n",
       "    }\n",
       "</style>\n",
       "<table border=\"1\" class=\"dataframe\">\n",
       "  <thead>\n",
       "    <tr style=\"text-align: right;\">\n",
       "      <th></th>\n",
       "      <th>engine-size</th>\n",
       "      <th>price</th>\n",
       "    </tr>\n",
       "  </thead>\n",
       "  <tbody>\n",
       "    <tr>\n",
       "      <th>engine-size</th>\n",
       "      <td>1.000000</td>\n",
       "      <td>0.872337</td>\n",
       "    </tr>\n",
       "    <tr>\n",
       "      <th>price</th>\n",
       "      <td>0.872337</td>\n",
       "      <td>1.000000</td>\n",
       "    </tr>\n",
       "  </tbody>\n",
       "</table>\n",
       "</div>"
      ],
      "text/plain": [
       "             engine-size     price\n",
       "engine-size     1.000000  0.872337\n",
       "price           0.872337  1.000000"
      ]
     },
     "execution_count": 166,
     "metadata": {},
     "output_type": "execute_result"
    }
   ],
   "source": [
    "df[[\"engine-size\", \"price\"]].corr()"
   ]
  },
  {
   "cell_type": "markdown",
   "metadata": {},
   "source": [
    "Highway mpg is a potential predictor variable of price "
   ]
  },
  {
   "cell_type": "code",
   "execution_count": 167,
   "metadata": {},
   "outputs": [
    {
     "data": {
      "text/plain": [
       "<AxesSubplot:xlabel='highway-mpg', ylabel='price'>"
      ]
     },
     "execution_count": 167,
     "metadata": {},
     "output_type": "execute_result"
    },
    {
     "data": {
      "image/png": "[encoded data removed]",
      "text/plain": [
       "<Figure size 576x396 with 1 Axes>"
      ]
     },
     "metadata": {},
     "output_type": "display_data"
    }
   ],
   "source": [
    "sns.regplot(x=df[\"highway-mpg\"], y=df[\"price\"])"
   ]
  },
  {
   "cell_type": "markdown",
   "metadata": {},
   "source": [
    "<p>As the highway-mpg goes up, the price goes down: this indicates an inverse/negative relationship between these two variables. Highway mpg could potentially be a predictor of price.</p>"
   ]
  },
  {
   "cell_type": "markdown",
   "metadata": {},
   "source": [
    "We can examine the correlation between 'highway-mpg' and 'price' and see it's approximately  -0.704"
   ]
  },
  {
   "cell_type": "code",
   "execution_count": 168,
   "metadata": {},
   "outputs": [
    {
     "data": {
      "text/html": [
       "<div>\n",
       "<style scoped>\n",
       "    .dataframe tbody tr th:only-of-type {\n",
       "        vertical-align: middle;\n",
       "    }\n",
       "\n",
       "    .dataframe tbody tr th {\n",
       "        vertical-align: top;\n",
       "    }\n",
       "\n",
       "    .dataframe thead th {\n",
       "        text-align: right;\n",
       "    }\n",
       "</style>\n",
       "<table border=\"1\" class=\"dataframe\">\n",
       "  <thead>\n",
       "    <tr style=\"text-align: right;\">\n",
       "      <th></th>\n",
       "      <th>highway-mpg</th>\n",
       "      <th>price</th>\n",
       "    </tr>\n",
       "  </thead>\n",
       "  <tbody>\n",
       "    <tr>\n",
       "      <th>highway-mpg</th>\n",
       "      <td>1.000000</td>\n",
       "      <td>-0.705115</td>\n",
       "    </tr>\n",
       "    <tr>\n",
       "      <th>price</th>\n",
       "      <td>-0.705115</td>\n",
       "      <td>1.000000</td>\n",
       "    </tr>\n",
       "  </tbody>\n",
       "</table>\n",
       "</div>"
      ],
      "text/plain": [
       "             highway-mpg     price\n",
       "highway-mpg     1.000000 -0.705115\n",
       "price          -0.705115  1.000000"
      ]
     },
     "execution_count": 168,
     "metadata": {},
     "output_type": "execute_result"
    }
   ],
   "source": [
    "df[['highway-mpg', 'price']].corr()"
   ]
  },
  {
   "cell_type": "markdown",
   "metadata": {},
   "source": [
    "<h3 style=\"color:gray\">Weak Linear Relationship</h3>"
   ]
  },
  {
   "cell_type": "markdown",
   "metadata": {},
   "source": [
    "Let's see if \"Peak-rpm\" as a predictor variable of \"price\"."
   ]
  },
  {
   "cell_type": "code",
   "execution_count": 169,
   "metadata": {},
   "outputs": [
    {
     "data": {
      "text/plain": [
       "<AxesSubplot:xlabel='peak-rpm', ylabel='price'>"
      ]
     },
     "execution_count": 169,
     "metadata": {},
     "output_type": "execute_result"
    },
    {
     "data": {
      "image/png": "[encoded data removed]",
      "text/plain": [
       "<Figure size 576x396 with 1 Axes>"
      ]
     },
     "metadata": {},
     "output_type": "display_data"
    }
   ],
   "source": [
    "sns.regplot(x=\"peak-rpm\", y=\"price\", data=df)"
   ]
  },
  {
   "cell_type": "markdown",
   "metadata": {},
   "source": [
    "<p>Peak rpm does not seem like a good predictor of the price at all since the regression line is close to horizontal. Also, the data points are very scattered and far from the fitted line, showing lots of variability. Therefore it's it is not a reliable variable.</p>"
   ]
  },
  {
   "cell_type": "markdown",
   "metadata": {},
   "source": [
    "We can examine the correlation between 'peak-rpm' and 'price' and see it's approximately -0.101616 "
   ]
  },
  {
   "cell_type": "code",
   "execution_count": 170,
   "metadata": {},
   "outputs": [
    {
     "data": {
      "text/html": [
       "<div>\n",
       "<style scoped>\n",
       "    .dataframe tbody tr th:only-of-type {\n",
       "        vertical-align: middle;\n",
       "    }\n",
       "\n",
       "    .dataframe tbody tr th {\n",
       "        vertical-align: top;\n",
       "    }\n",
       "\n",
       "    .dataframe thead th {\n",
       "        text-align: right;\n",
       "    }\n",
       "</style>\n",
       "<table border=\"1\" class=\"dataframe\">\n",
       "  <thead>\n",
       "    <tr style=\"text-align: right;\">\n",
       "      <th></th>\n",
       "      <th>peak-rpm</th>\n",
       "      <th>price</th>\n",
       "    </tr>\n",
       "  </thead>\n",
       "  <tbody>\n",
       "    <tr>\n",
       "      <th>peak-rpm</th>\n",
       "      <td>1.000000</td>\n",
       "      <td>-0.101593</td>\n",
       "    </tr>\n",
       "    <tr>\n",
       "      <th>price</th>\n",
       "      <td>-0.101593</td>\n",
       "      <td>1.000000</td>\n",
       "    </tr>\n",
       "  </tbody>\n",
       "</table>\n",
       "</div>"
      ],
      "text/plain": [
       "          peak-rpm     price\n",
       "peak-rpm  1.000000 -0.101593\n",
       "price    -0.101593  1.000000"
      ]
     },
     "execution_count": 170,
     "metadata": {},
     "output_type": "execute_result"
    }
   ],
   "source": [
    "df[['peak-rpm','price']].corr()"
   ]
  },
  {
   "cell_type": "markdown",
   "metadata": {},
   "source": [
    "<p>Find the correlation  between x=\"stroke\", y=\"price\".</p>\n",
    "<p>Hint: if you would like to select those columns  use the following syntax: df[[\"stroke\",\"price\"]]  </p>"
   ]
  },
  {
   "cell_type": "code",
   "execution_count": 171,
   "metadata": {},
   "outputs": [
    {
     "data": {
      "text/html": [
       "<div>\n",
       "<style scoped>\n",
       "    .dataframe tbody tr th:only-of-type {\n",
       "        vertical-align: middle;\n",
       "    }\n",
       "\n",
       "    .dataframe tbody tr th {\n",
       "        vertical-align: top;\n",
       "    }\n",
       "\n",
       "    .dataframe thead th {\n",
       "        text-align: right;\n",
       "    }\n",
       "</style>\n",
       "<table border=\"1\" class=\"dataframe\">\n",
       "  <thead>\n",
       "    <tr style=\"text-align: right;\">\n",
       "      <th></th>\n",
       "      <th>stroke</th>\n",
       "      <th>price</th>\n",
       "    </tr>\n",
       "  </thead>\n",
       "  <tbody>\n",
       "    <tr>\n",
       "      <th>stroke</th>\n",
       "      <td>1.000000</td>\n",
       "      <td>0.083298</td>\n",
       "    </tr>\n",
       "    <tr>\n",
       "      <th>price</th>\n",
       "      <td>0.083298</td>\n",
       "      <td>1.000000</td>\n",
       "    </tr>\n",
       "  </tbody>\n",
       "</table>\n",
       "</div>"
      ],
      "text/plain": [
       "          stroke     price\n",
       "stroke  1.000000  0.083298\n",
       "price   0.083298  1.000000"
      ]
     },
     "execution_count": 171,
     "metadata": {},
     "output_type": "execute_result"
    }
   ],
   "source": [
    "# Write your code below and press Shift+Enter to execute\n",
    "df[[\"stroke\",\"price\"]].corr()\n"
   ]
  },
  {
   "cell_type": "markdown",
   "metadata": {},
   "source": [
    "<p>Given the correlation results between \"price\" and \"stroke\" do you expect a linear relationship?</p> \n",
    "<p>Verify your results using the function \"regplot()\".</p>"
   ]
  },
  {
   "cell_type": "code",
   "execution_count": 172,
   "metadata": {},
   "outputs": [
    {
     "data": {
      "text/plain": [
       "<AxesSubplot:xlabel='stroke', ylabel='price'>"
      ]
     },
     "execution_count": 172,
     "metadata": {},
     "output_type": "execute_result"
    },
    {
     "data": {
      "image/png": "[encoded data removed]",
      "text/plain": [
       "<Figure size 576x396 with 1 Axes>"
      ]
     },
     "metadata": {},
     "output_type": "display_data"
    }
   ],
   "source": [
    "# Write your code below and press Shift+Enter to execute \n",
    "sns.regplot(x=\"stroke\", y=\"price\", data=df)"
   ]
  },
  {
   "cell_type": "markdown",
   "metadata": {},
   "source": [
    "<h3 style=\"color:gray\">Categorical variables</h3>"
   ]
  },
  {
   "cell_type": "markdown",
   "metadata": {},
   "source": [
    "<p>These are variables that describe a 'characteristic' of a data unit, and are selected from a small group of categories. The categorical variables can have the type \"object\" or \"int64\". A good way to visualize categorical variables is by using boxplots.</p>"
   ]
  },
  {
   "cell_type": "markdown",
   "metadata": {},
   "source": [
    "Let's look at the relationship between \"body-style\" and \"price\"."
   ]
  },
  {
   "cell_type": "code",
   "execution_count": 173,
   "metadata": {},
   "outputs": [
    {
     "data": {
      "text/plain": [
       "<AxesSubplot:xlabel='body-style', ylabel='price'>"
      ]
     },
     "execution_count": 173,
     "metadata": {},
     "output_type": "execute_result"
    },
    {
     "data": {
      "image/png": "[encoded data removed]",
      "text/plain": [
       "<Figure size 576x396 with 1 Axes>"
      ]
     },
     "metadata": {},
     "output_type": "display_data"
    }
   ],
   "source": [
    "sns.boxplot(x=df[\"body-style\"], y=df[\"price\"])"
   ]
  },
  {
   "cell_type": "markdown",
   "metadata": {},
   "source": [
    "<p>We see that the distributions of price between the different body-style categories have a significant overlap, and so body-style would not be a good predictor of price. Let's examine engine \"engine-location\" and \"price\":</p>"
   ]
  },
  {
   "cell_type": "code",
   "execution_count": 174,
   "metadata": {},
   "outputs": [
    {
     "data": {
      "text/plain": [
       "<AxesSubplot:xlabel='engine-location', ylabel='price'>"
      ]
     },
     "execution_count": 174,
     "metadata": {},
     "output_type": "execute_result"
    },
    {
     "data": {
      "image/png": "[encoded data removed]",
      "text/plain": [
       "<Figure size 576x396 with 1 Axes>"
      ]
     },
     "metadata": {},
     "output_type": "display_data"
    }
   ],
   "source": [
    "sns.boxplot(x=\"engine-location\", y=\"price\", data=df)"
   ]
  },
  {
   "cell_type": "markdown",
   "metadata": {},
   "source": [
    "<p>Here we see that the distribution of price between these two engine-location categories, front and rear, are distinct enough to take engine-location as a potential good predictor of price.</p>"
   ]
  },
  {
   "cell_type": "markdown",
   "metadata": {},
   "source": [
    " Let's examine \"drive-wheels\" and \"price\"."
   ]
  },
  {
   "cell_type": "code",
   "execution_count": 175,
   "metadata": {},
   "outputs": [
    {
     "data": {
      "text/plain": [
       "<AxesSubplot:xlabel='drive-wheels', ylabel='price'>"
      ]
     },
     "execution_count": 175,
     "metadata": {},
     "output_type": "execute_result"
    },
    {
     "data": {
      "image/png": "[encoded data removed]",
      "text/plain": [
       "<Figure size 576x396 with 1 Axes>"
      ]
     },
     "metadata": {},
     "output_type": "display_data"
    }
   ],
   "source": [
    "sns.boxplot(x=\"drive-wheels\", y=\"price\", data=df)"
   ]
  },
  {
   "cell_type": "markdown",
   "metadata": {},
   "source": [
    "<p>Here we see that the distribution of price between the different drive-wheels categories differs; as such drive-wheels could potentially be a predictor of price.</p>"
   ]
  },
  {
   "cell_type": "markdown",
   "metadata": {},
   "source": [
    "## Descriptive Statistical Analysis"
   ]
  },
  {
   "cell_type": "markdown",
   "metadata": {},
   "source": [
    "<p>Let's first take a look at the variables by utilizing a description method.</p>\n",
    "\n",
    "<p>The <b>describe</b> function automatically computes basic statistics for all continuous variables. Any NaN values are automatically skipped in these statistics.</p>\n",
    "\n",
    "This will show:\n",
    "<ul>\n",
    "    <li>the count of that variable</li>\n",
    "    <li>the mean</li>\n",
    "    <li>the standard deviation (std)</li> \n",
    "    <li>the minimum value</li>\n",
    "    <li>the IQR (Interquartile Range: 25%, 50% and 75%)</li>\n",
    "    <li>the maximum value</li>\n",
    "<ul>\n"
   ]
  },
  {
   "cell_type": "markdown",
   "metadata": {},
   "source": [
    " We can apply the method \"describe\" as follows:"
   ]
  },
  {
   "cell_type": "code",
   "execution_count": 176,
   "metadata": {},
   "outputs": [
    {
     "data": {
      "text/html": [
       "<div>\n",
       "<style scoped>\n",
       "    .dataframe tbody tr th:only-of-type {\n",
       "        vertical-align: middle;\n",
       "    }\n",
       "\n",
       "    .dataframe tbody tr th {\n",
       "        vertical-align: top;\n",
       "    }\n",
       "\n",
       "    .dataframe thead th {\n",
       "        text-align: right;\n",
       "    }\n",
       "</style>\n",
       "<table border=\"1\" class=\"dataframe\">\n",
       "  <thead>\n",
       "    <tr style=\"text-align: right;\">\n",
       "      <th></th>\n",
       "      <th>Unnamed: 0</th>\n",
       "      <th>symboling</th>\n",
       "      <th>normalized-losses</th>\n",
       "      <th>wheel-base</th>\n",
       "      <th>length</th>\n",
       "      <th>width</th>\n",
       "      <th>height</th>\n",
       "      <th>curb-weight</th>\n",
       "      <th>engine-size</th>\n",
       "      <th>bore</th>\n",
       "      <th>stroke</th>\n",
       "      <th>compression-ratio</th>\n",
       "      <th>horsepower</th>\n",
       "      <th>peak-rpm</th>\n",
       "      <th>city-mpg</th>\n",
       "      <th>highway-mpg</th>\n",
       "      <th>price</th>\n",
       "      <th>city-L/100km</th>\n",
       "      <th>diesel</th>\n",
       "      <th>gas</th>\n",
       "      <th>std</th>\n",
       "      <th>turbo</th>\n",
       "    </tr>\n",
       "  </thead>\n",
       "  <tbody>\n",
       "    <tr>\n",
       "      <th>count</th>\n",
       "      <td>200.000000</td>\n",
       "      <td>200.000000</td>\n",
       "      <td>200.000000</td>\n",
       "      <td>200.000000</td>\n",
       "      <td>200.000000</td>\n",
       "      <td>200.000000</td>\n",
       "      <td>200.000000</td>\n",
       "      <td>200.000000</td>\n",
       "      <td>200.000000</td>\n",
       "      <td>200.000000</td>\n",
       "      <td>200.000000</td>\n",
       "      <td>200.000000</td>\n",
       "      <td>200.000000</td>\n",
       "      <td>200.000000</td>\n",
       "      <td>200.000000</td>\n",
       "      <td>200.000000</td>\n",
       "      <td>200.000000</td>\n",
       "      <td>200.000000</td>\n",
       "      <td>200.000000</td>\n",
       "      <td>200.000000</td>\n",
       "      <td>200.000000</td>\n",
       "      <td>200.000000</td>\n",
       "    </tr>\n",
       "    <tr>\n",
       "      <th>mean</th>\n",
       "      <td>99.500000</td>\n",
       "      <td>0.830000</td>\n",
       "      <td>122.000000</td>\n",
       "      <td>98.848000</td>\n",
       "      <td>0.837232</td>\n",
       "      <td>0.915250</td>\n",
       "      <td>0.899523</td>\n",
       "      <td>2555.705000</td>\n",
       "      <td>126.860000</td>\n",
       "      <td>3.329981</td>\n",
       "      <td>3.259816</td>\n",
       "      <td>10.170100</td>\n",
       "      <td>103.365000</td>\n",
       "      <td>5118.259901</td>\n",
       "      <td>25.200000</td>\n",
       "      <td>30.705000</td>\n",
       "      <td>13205.690000</td>\n",
       "      <td>9.937914</td>\n",
       "      <td>0.100000</td>\n",
       "      <td>0.900000</td>\n",
       "      <td>0.820000</td>\n",
       "      <td>0.180000</td>\n",
       "    </tr>\n",
       "    <tr>\n",
       "      <th>std</th>\n",
       "      <td>57.879185</td>\n",
       "      <td>1.248557</td>\n",
       "      <td>32.076542</td>\n",
       "      <td>6.038261</td>\n",
       "      <td>0.059333</td>\n",
       "      <td>0.029207</td>\n",
       "      <td>0.040610</td>\n",
       "      <td>518.594552</td>\n",
       "      <td>41.650501</td>\n",
       "      <td>0.268562</td>\n",
       "      <td>0.314177</td>\n",
       "      <td>4.014163</td>\n",
       "      <td>37.455525</td>\n",
       "      <td>479.240743</td>\n",
       "      <td>6.432487</td>\n",
       "      <td>6.827227</td>\n",
       "      <td>7966.982558</td>\n",
       "      <td>2.539415</td>\n",
       "      <td>0.300753</td>\n",
       "      <td>0.300753</td>\n",
       "      <td>0.385152</td>\n",
       "      <td>0.385152</td>\n",
       "    </tr>\n",
       "    <tr>\n",
       "      <th>min</th>\n",
       "      <td>0.000000</td>\n",
       "      <td>-2.000000</td>\n",
       "      <td>65.000000</td>\n",
       "      <td>86.600000</td>\n",
       "      <td>0.678039</td>\n",
       "      <td>0.837500</td>\n",
       "      <td>0.799331</td>\n",
       "      <td>1488.000000</td>\n",
       "      <td>61.000000</td>\n",
       "      <td>2.540000</td>\n",
       "      <td>2.070000</td>\n",
       "      <td>7.000000</td>\n",
       "      <td>48.000000</td>\n",
       "      <td>4150.000000</td>\n",
       "      <td>13.000000</td>\n",
       "      <td>16.000000</td>\n",
       "      <td>5118.000000</td>\n",
       "      <td>4.795918</td>\n",
       "      <td>0.000000</td>\n",
       "      <td>0.000000</td>\n",
       "      <td>0.000000</td>\n",
       "      <td>0.000000</td>\n",
       "    </tr>\n",
       "    <tr>\n",
       "      <th>25%</th>\n",
       "      <td>49.750000</td>\n",
       "      <td>0.000000</td>\n",
       "      <td>100.250000</td>\n",
       "      <td>94.500000</td>\n",
       "      <td>0.800937</td>\n",
       "      <td>0.891319</td>\n",
       "      <td>0.869565</td>\n",
       "      <td>2163.000000</td>\n",
       "      <td>97.750000</td>\n",
       "      <td>3.150000</td>\n",
       "      <td>3.117500</td>\n",
       "      <td>8.575000</td>\n",
       "      <td>70.000000</td>\n",
       "      <td>4800.000000</td>\n",
       "      <td>19.000000</td>\n",
       "      <td>25.000000</td>\n",
       "      <td>7775.000000</td>\n",
       "      <td>7.833333</td>\n",
       "      <td>0.000000</td>\n",
       "      <td>1.000000</td>\n",
       "      <td>1.000000</td>\n",
       "      <td>0.000000</td>\n",
       "    </tr>\n",
       "    <tr>\n",
       "      <th>50%</th>\n",
       "      <td>99.500000</td>\n",
       "      <td>1.000000</td>\n",
       "      <td>122.000000</td>\n",
       "      <td>97.000000</td>\n",
       "      <td>0.832292</td>\n",
       "      <td>0.909722</td>\n",
       "      <td>0.904682</td>\n",
       "      <td>2414.000000</td>\n",
       "      <td>119.500000</td>\n",
       "      <td>3.310000</td>\n",
       "      <td>3.290000</td>\n",
       "      <td>9.000000</td>\n",
       "      <td>95.000000</td>\n",
       "      <td>5162.995050</td>\n",
       "      <td>24.000000</td>\n",
       "      <td>30.000000</td>\n",
       "      <td>10270.000000</td>\n",
       "      <td>9.791667</td>\n",
       "      <td>0.000000</td>\n",
       "      <td>1.000000</td>\n",
       "      <td>1.000000</td>\n",
       "      <td>0.000000</td>\n",
       "    </tr>\n",
       "    <tr>\n",
       "      <th>75%</th>\n",
       "      <td>149.250000</td>\n",
       "      <td>2.000000</td>\n",
       "      <td>138.250000</td>\n",
       "      <td>102.400000</td>\n",
       "      <td>0.881788</td>\n",
       "      <td>0.926042</td>\n",
       "      <td>0.928512</td>\n",
       "      <td>2928.250000</td>\n",
       "      <td>142.000000</td>\n",
       "      <td>3.582500</td>\n",
       "      <td>3.410000</td>\n",
       "      <td>9.400000</td>\n",
       "      <td>116.000000</td>\n",
       "      <td>5500.000000</td>\n",
       "      <td>30.000000</td>\n",
       "      <td>34.000000</td>\n",
       "      <td>16500.750000</td>\n",
       "      <td>12.368421</td>\n",
       "      <td>0.000000</td>\n",
       "      <td>1.000000</td>\n",
       "      <td>1.000000</td>\n",
       "      <td>0.000000</td>\n",
       "    </tr>\n",
       "    <tr>\n",
       "      <th>max</th>\n",
       "      <td>199.000000</td>\n",
       "      <td>3.000000</td>\n",
       "      <td>256.000000</td>\n",
       "      <td>120.900000</td>\n",
       "      <td>1.000000</td>\n",
       "      <td>1.000000</td>\n",
       "      <td>1.000000</td>\n",
       "      <td>4066.000000</td>\n",
       "      <td>326.000000</td>\n",
       "      <td>3.940000</td>\n",
       "      <td>4.170000</td>\n",
       "      <td>23.000000</td>\n",
       "      <td>262.000000</td>\n",
       "      <td>6600.000000</td>\n",
       "      <td>49.000000</td>\n",
       "      <td>54.000000</td>\n",
       "      <td>45400.000000</td>\n",
       "      <td>18.076923</td>\n",
       "      <td>1.000000</td>\n",
       "      <td>1.000000</td>\n",
       "      <td>1.000000</td>\n",
       "      <td>1.000000</td>\n",
       "    </tr>\n",
       "  </tbody>\n",
       "</table>\n",
       "</div>"
      ],
      "text/plain": [
       "       Unnamed: 0   symboling  normalized-losses  wheel-base      length  \\\n",
       "count  200.000000  200.000000         200.000000  200.000000  200.000000   \n",
       "mean    99.500000    0.830000         122.000000   98.848000    0.837232   \n",
       "std     57.879185    1.248557          32.076542    6.038261    0.059333   \n",
       "min      0.000000   -2.000000          65.000000   86.600000    0.678039   \n",
       "25%     49.750000    0.000000         100.250000   94.500000    0.800937   \n",
       "50%     99.500000    1.000000         122.000000   97.000000    0.832292   \n",
       "75%    149.250000    2.000000         138.250000  102.400000    0.881788   \n",
       "max    199.000000    3.000000         256.000000  120.900000    1.000000   \n",
       "\n",
       "            width      height  curb-weight  engine-size        bore  \\\n",
       "count  200.000000  200.000000   200.000000   200.000000  200.000000   \n",
       "mean     0.915250    0.899523  2555.705000   126.860000    3.329981   \n",
       "std      0.029207    0.040610   518.594552    41.650501    0.268562   \n",
       "min      0.837500    0.799331  1488.000000    61.000000    2.540000   \n",
       "25%      0.891319    0.869565  2163.000000    97.750000    3.150000   \n",
       "50%      0.909722    0.904682  2414.000000   119.500000    3.310000   \n",
       "75%      0.926042    0.928512  2928.250000   142.000000    3.582500   \n",
       "max      1.000000    1.000000  4066.000000   326.000000    3.940000   \n",
       "\n",
       "           stroke  compression-ratio  horsepower     peak-rpm    city-mpg  \\\n",
       "count  200.000000         200.000000  200.000000   200.000000  200.000000   \n",
       "mean     3.259816          10.170100  103.365000  5118.259901   25.200000   \n",
       "std      0.314177           4.014163   37.455525   479.240743    6.432487   \n",
       "min      2.070000           7.000000   48.000000  4150.000000   13.000000   \n",
       "25%      3.117500           8.575000   70.000000  4800.000000   19.000000   \n",
       "50%      3.290000           9.000000   95.000000  5162.995050   24.000000   \n",
       "75%      3.410000           9.400000  116.000000  5500.000000   30.000000   \n",
       "max      4.170000          23.000000  262.000000  6600.000000   49.000000   \n",
       "\n",
       "       highway-mpg         price  city-L/100km      diesel         gas  \\\n",
       "count   200.000000    200.000000    200.000000  200.000000  200.000000   \n",
       "mean     30.705000  13205.690000      9.937914    0.100000    0.900000   \n",
       "std       6.827227   7966.982558      2.539415    0.300753    0.300753   \n",
       "min      16.000000   5118.000000      4.795918    0.000000    0.000000   \n",
       "25%      25.000000   7775.000000      7.833333    0.000000    1.000000   \n",
       "50%      30.000000  10270.000000      9.791667    0.000000    1.000000   \n",
       "75%      34.000000  16500.750000     12.368421    0.000000    1.000000   \n",
       "max      54.000000  45400.000000     18.076923    1.000000    1.000000   \n",
       "\n",
       "              std       turbo  \n",
       "count  200.000000  200.000000  \n",
       "mean     0.820000    0.180000  \n",
       "std      0.385152    0.385152  \n",
       "min      0.000000    0.000000  \n",
       "25%      1.000000    0.000000  \n",
       "50%      1.000000    0.000000  \n",
       "75%      1.000000    0.000000  \n",
       "max      1.000000    1.000000  "
      ]
     },
     "execution_count": 176,
     "metadata": {},
     "output_type": "execute_result"
    }
   ],
   "source": [
    "df.describe()"
   ]
  },
  {
   "cell_type": "markdown",
   "metadata": {},
   "source": [
    " The default setting of \"describe\" skips variables of type object. We can apply the method \"describe\" on the variables of type 'object' as follows:"
   ]
  },
  {
   "cell_type": "code",
   "execution_count": 177,
   "metadata": {},
   "outputs": [
    {
     "data": {
      "text/html": [
       "<div>\n",
       "<style scoped>\n",
       "    .dataframe tbody tr th:only-of-type {\n",
       "        vertical-align: middle;\n",
       "    }\n",
       "\n",
       "    .dataframe tbody tr th {\n",
       "        vertical-align: top;\n",
       "    }\n",
       "\n",
       "    .dataframe thead th {\n",
       "        text-align: right;\n",
       "    }\n",
       "</style>\n",
       "<table border=\"1\" class=\"dataframe\">\n",
       "  <thead>\n",
       "    <tr style=\"text-align: right;\">\n",
       "      <th></th>\n",
       "      <th>make</th>\n",
       "      <th>num-of-doors</th>\n",
       "      <th>body-style</th>\n",
       "      <th>drive-wheels</th>\n",
       "      <th>engine-location</th>\n",
       "      <th>engine-type</th>\n",
       "      <th>num-of-cylinders</th>\n",
       "      <th>fuel-system</th>\n",
       "      <th>horsepower-binned</th>\n",
       "    </tr>\n",
       "  </thead>\n",
       "  <tbody>\n",
       "    <tr>\n",
       "      <th>count</th>\n",
       "      <td>200</td>\n",
       "      <td>200</td>\n",
       "      <td>200</td>\n",
       "      <td>200</td>\n",
       "      <td>200</td>\n",
       "      <td>200</td>\n",
       "      <td>200</td>\n",
       "      <td>200</td>\n",
       "      <td>200</td>\n",
       "    </tr>\n",
       "    <tr>\n",
       "      <th>unique</th>\n",
       "      <td>22</td>\n",
       "      <td>2</td>\n",
       "      <td>5</td>\n",
       "      <td>3</td>\n",
       "      <td>2</td>\n",
       "      <td>6</td>\n",
       "      <td>7</td>\n",
       "      <td>8</td>\n",
       "      <td>3</td>\n",
       "    </tr>\n",
       "    <tr>\n",
       "      <th>top</th>\n",
       "      <td>toyota</td>\n",
       "      <td>four</td>\n",
       "      <td>sedan</td>\n",
       "      <td>fwd</td>\n",
       "      <td>front</td>\n",
       "      <td>ohc</td>\n",
       "      <td>four</td>\n",
       "      <td>mpfi</td>\n",
       "      <td>Low</td>\n",
       "    </tr>\n",
       "    <tr>\n",
       "      <th>freq</th>\n",
       "      <td>32</td>\n",
       "      <td>115</td>\n",
       "      <td>94</td>\n",
       "      <td>118</td>\n",
       "      <td>197</td>\n",
       "      <td>145</td>\n",
       "      <td>156</td>\n",
       "      <td>91</td>\n",
       "      <td>152</td>\n",
       "    </tr>\n",
       "  </tbody>\n",
       "</table>\n",
       "</div>"
      ],
      "text/plain": [
       "          make num-of-doors body-style drive-wheels engine-location  \\\n",
       "count      200          200        200          200             200   \n",
       "unique      22            2          5            3               2   \n",
       "top     toyota         four      sedan          fwd           front   \n",
       "freq        32          115         94          118             197   \n",
       "\n",
       "       engine-type num-of-cylinders fuel-system horsepower-binned  \n",
       "count          200              200         200               200  \n",
       "unique           6                7           8                 3  \n",
       "top            ohc             four        mpfi               Low  \n",
       "freq           145              156          91               152  "
      ]
     },
     "execution_count": 177,
     "metadata": {},
     "output_type": "execute_result"
    }
   ],
   "source": [
    "df.describe(include=['object'])"
   ]
  },
  {
   "cell_type": "markdown",
   "metadata": {},
   "source": [
    "<h3 style=\"color:gray\">Value Counts</h3>"
   ]
  },
  {
   "cell_type": "markdown",
   "metadata": {},
   "source": [
    "<p>Value-counts is a good way of understanding how many units of each characteristic/variable we have. We can apply the \"value_counts\" method on the column 'drive-wheels'. Don’t forget the method \"value_counts\" only works on Pandas series, not Pandas Dataframes. As a result, we only include one bracket \"df['drive-wheels']\" not two brackets \"df[['drive-wheels']]\".</p>"
   ]
  },
  {
   "cell_type": "code",
   "execution_count": 178,
   "metadata": {},
   "outputs": [
    {
     "data": {
      "text/plain": [
       "fwd    118\n",
       "rwd     74\n",
       "4wd      8\n",
       "Name: drive-wheels, dtype: int64"
      ]
     },
     "execution_count": 178,
     "metadata": {},
     "output_type": "execute_result"
    }
   ],
   "source": [
    "df['drive-wheels'].value_counts()"
   ]
  },
  {
   "cell_type": "markdown",
   "metadata": {},
   "source": [
    "We can convert the series to a Dataframe as follows :"
   ]
  },
  {
   "cell_type": "code",
   "execution_count": 179,
   "metadata": {},
   "outputs": [
    {
     "data": {
      "text/html": [
       "<div>\n",
       "<style scoped>\n",
       "    .dataframe tbody tr th:only-of-type {\n",
       "        vertical-align: middle;\n",
       "    }\n",
       "\n",
       "    .dataframe tbody tr th {\n",
       "        vertical-align: top;\n",
       "    }\n",
       "\n",
       "    .dataframe thead th {\n",
       "        text-align: right;\n",
       "    }\n",
       "</style>\n",
       "<table border=\"1\" class=\"dataframe\">\n",
       "  <thead>\n",
       "    <tr style=\"text-align: right;\">\n",
       "      <th></th>\n",
       "      <th>drive-wheels</th>\n",
       "    </tr>\n",
       "  </thead>\n",
       "  <tbody>\n",
       "    <tr>\n",
       "      <th>fwd</th>\n",
       "      <td>118</td>\n",
       "    </tr>\n",
       "    <tr>\n",
       "      <th>rwd</th>\n",
       "      <td>74</td>\n",
       "    </tr>\n",
       "    <tr>\n",
       "      <th>4wd</th>\n",
       "      <td>8</td>\n",
       "    </tr>\n",
       "  </tbody>\n",
       "</table>\n",
       "</div>"
      ],
      "text/plain": [
       "     drive-wheels\n",
       "fwd           118\n",
       "rwd            74\n",
       "4wd             8"
      ]
     },
     "execution_count": 179,
     "metadata": {},
     "output_type": "execute_result"
    }
   ],
   "source": [
    "drive_wheels_counts = df['drive-wheels'].value_counts().to_frame()\n",
    "drive_wheels_counts"
   ]
  },
  {
   "cell_type": "markdown",
   "metadata": {},
   "source": [
    "Let's repeat the above steps but save the results to the dataframe \"drive_wheels_counts\" and rename the column  'drive-wheels' to 'value_counts'."
   ]
  },
  {
   "cell_type": "code",
   "execution_count": 180,
   "metadata": {},
   "outputs": [
    {
     "data": {
      "text/html": [
       "<div>\n",
       "<style scoped>\n",
       "    .dataframe tbody tr th:only-of-type {\n",
       "        vertical-align: middle;\n",
       "    }\n",
       "\n",
       "    .dataframe tbody tr th {\n",
       "        vertical-align: top;\n",
       "    }\n",
       "\n",
       "    .dataframe thead th {\n",
       "        text-align: right;\n",
       "    }\n",
       "</style>\n",
       "<table border=\"1\" class=\"dataframe\">\n",
       "  <thead>\n",
       "    <tr style=\"text-align: right;\">\n",
       "      <th></th>\n",
       "      <th>value_counts</th>\n",
       "    </tr>\n",
       "  </thead>\n",
       "  <tbody>\n",
       "    <tr>\n",
       "      <th>fwd</th>\n",
       "      <td>118</td>\n",
       "    </tr>\n",
       "    <tr>\n",
       "      <th>rwd</th>\n",
       "      <td>74</td>\n",
       "    </tr>\n",
       "    <tr>\n",
       "      <th>4wd</th>\n",
       "      <td>8</td>\n",
       "    </tr>\n",
       "  </tbody>\n",
       "</table>\n",
       "</div>"
      ],
      "text/plain": [
       "     value_counts\n",
       "fwd           118\n",
       "rwd            74\n",
       "4wd             8"
      ]
     },
     "execution_count": 180,
     "metadata": {},
     "output_type": "execute_result"
    }
   ],
   "source": [
    "drive_wheels_counts.rename(columns={'drive-wheels': 'value_counts'}, inplace=True)\n",
    "drive_wheels_counts"
   ]
  },
  {
   "cell_type": "markdown",
   "metadata": {},
   "source": [
    " Now let's rename the index to 'drive-wheels':"
   ]
  },
  {
   "cell_type": "code",
   "execution_count": 181,
   "metadata": {},
   "outputs": [
    {
     "data": {
      "text/html": [
       "<div>\n",
       "<style scoped>\n",
       "    .dataframe tbody tr th:only-of-type {\n",
       "        vertical-align: middle;\n",
       "    }\n",
       "\n",
       "    .dataframe tbody tr th {\n",
       "        vertical-align: top;\n",
       "    }\n",
       "\n",
       "    .dataframe thead th {\n",
       "        text-align: right;\n",
       "    }\n",
       "</style>\n",
       "<table border=\"1\" class=\"dataframe\">\n",
       "  <thead>\n",
       "    <tr style=\"text-align: right;\">\n",
       "      <th></th>\n",
       "      <th>value_counts</th>\n",
       "    </tr>\n",
       "    <tr>\n",
       "      <th>drive-wheels</th>\n",
       "      <th></th>\n",
       "    </tr>\n",
       "  </thead>\n",
       "  <tbody>\n",
       "    <tr>\n",
       "      <th>fwd</th>\n",
       "      <td>118</td>\n",
       "    </tr>\n",
       "    <tr>\n",
       "      <th>rwd</th>\n",
       "      <td>74</td>\n",
       "    </tr>\n",
       "    <tr>\n",
       "      <th>4wd</th>\n",
       "      <td>8</td>\n",
       "    </tr>\n",
       "  </tbody>\n",
       "</table>\n",
       "</div>"
      ],
      "text/plain": [
       "              value_counts\n",
       "drive-wheels              \n",
       "fwd                    118\n",
       "rwd                     74\n",
       "4wd                      8"
      ]
     },
     "execution_count": 181,
     "metadata": {},
     "output_type": "execute_result"
    }
   ],
   "source": [
    "drive_wheels_counts.index.name = 'drive-wheels'\n",
    "drive_wheels_counts"
   ]
  },
  {
   "cell_type": "code",
   "execution_count": 182,
   "metadata": {},
   "outputs": [
    {
     "data": {
      "text/plain": [
       "Index(['fwd', 'rwd', '4wd'], dtype='object', name='drive-wheels')"
      ]
     },
     "execution_count": 182,
     "metadata": {},
     "output_type": "execute_result"
    }
   ],
   "source": [
    "drive_wheels_counts.index"
   ]
  },
  {
   "cell_type": "code",
   "execution_count": 183,
   "metadata": {},
   "outputs": [],
   "source": [
    "df.index.name"
   ]
  },
  {
   "cell_type": "markdown",
   "metadata": {},
   "source": [
    "We can repeat the above process for the variable 'engine-location'."
   ]
  },
  {
   "cell_type": "code",
   "execution_count": 184,
   "metadata": {},
   "outputs": [
    {
     "data": {
      "text/html": [
       "<div>\n",
       "<style scoped>\n",
       "    .dataframe tbody tr th:only-of-type {\n",
       "        vertical-align: middle;\n",
       "    }\n",
       "\n",
       "    .dataframe tbody tr th {\n",
       "        vertical-align: top;\n",
       "    }\n",
       "\n",
       "    .dataframe thead th {\n",
       "        text-align: right;\n",
       "    }\n",
       "</style>\n",
       "<table border=\"1\" class=\"dataframe\">\n",
       "  <thead>\n",
       "    <tr style=\"text-align: right;\">\n",
       "      <th></th>\n",
       "      <th>value_counts</th>\n",
       "    </tr>\n",
       "    <tr>\n",
       "      <th>engine-location</th>\n",
       "      <th></th>\n",
       "    </tr>\n",
       "  </thead>\n",
       "  <tbody>\n",
       "    <tr>\n",
       "      <th>front</th>\n",
       "      <td>197</td>\n",
       "    </tr>\n",
       "    <tr>\n",
       "      <th>rear</th>\n",
       "      <td>3</td>\n",
       "    </tr>\n",
       "  </tbody>\n",
       "</table>\n",
       "</div>"
      ],
      "text/plain": [
       "                 value_counts\n",
       "engine-location              \n",
       "front                     197\n",
       "rear                        3"
      ]
     },
     "execution_count": 184,
     "metadata": {},
     "output_type": "execute_result"
    }
   ],
   "source": [
    "# engine-location as variable\n",
    "engine_loc_counts = df['engine-location'].value_counts().to_frame()\n",
    "engine_loc_counts.rename(columns={'engine-location': 'value_counts'}, inplace=True)\n",
    "engine_loc_counts.index.name = 'engine-location'\n",
    "engine_loc_counts"
   ]
  },
  {
   "cell_type": "markdown",
   "metadata": {},
   "source": [
    "<p>Examining the value counts of the engine location would not be a good predictor variable for the price. This is because we only have three cars with a rear engine and 198 with an engine in the front, this result is skewed. Thus, we are not able to draw any conclusions about the engine location.</p>"
   ]
  },
  {
   "cell_type": "markdown",
   "metadata": {},
   "source": [
    "## Basics of Grouping"
   ]
  },
  {
   "cell_type": "markdown",
   "metadata": {},
   "source": [
    "<p>The \"groupby\" method groups data by different categories. The data is grouped based on one or several variables and analysis is performed on the individual groups.</p>\n",
    "\n",
    "<p>For example, let's group by the variable \"drive-wheels\". We see that there are 3 different categories of drive wheels.</p>"
   ]
  },
  {
   "cell_type": "code",
   "execution_count": 185,
   "metadata": {},
   "outputs": [
    {
     "data": {
      "text/plain": [
       "array(['rwd', 'fwd', '4wd'], dtype=object)"
      ]
     },
     "execution_count": 185,
     "metadata": {},
     "output_type": "execute_result"
    }
   ],
   "source": [
    "df['drive-wheels'].unique()"
   ]
  },
  {
   "cell_type": "markdown",
   "metadata": {},
   "source": [
    "<p>If we want to know, on average, which type of drive wheel is most valuable, we can group \"drive-wheels\" and then average them.</p>\n",
    "\n",
    "<p>We can select the columns 'drive-wheels', 'body-style' and 'price', then assign it to the variable \"df_group_one\".</p>"
   ]
  },
  {
   "cell_type": "code",
   "execution_count": 219,
   "metadata": {},
   "outputs": [
    {
     "data": {
      "text/html": [
       "<div>\n",
       "<style scoped>\n",
       "    .dataframe tbody tr th:only-of-type {\n",
       "        vertical-align: middle;\n",
       "    }\n",
       "\n",
       "    .dataframe tbody tr th {\n",
       "        vertical-align: top;\n",
       "    }\n",
       "\n",
       "    .dataframe thead th {\n",
       "        text-align: right;\n",
       "    }\n",
       "</style>\n",
       "<table border=\"1\" class=\"dataframe\">\n",
       "  <thead>\n",
       "    <tr style=\"text-align: right;\">\n",
       "      <th></th>\n",
       "      <th>drive-wheels</th>\n",
       "      <th>horsepower</th>\n",
       "      <th>body-style</th>\n",
       "      <th>price</th>\n",
       "    </tr>\n",
       "  </thead>\n",
       "  <tbody>\n",
       "    <tr>\n",
       "      <th>0</th>\n",
       "      <td>rwd</td>\n",
       "      <td>111</td>\n",
       "      <td>convertible</td>\n",
       "      <td>16500.0</td>\n",
       "    </tr>\n",
       "    <tr>\n",
       "      <th>1</th>\n",
       "      <td>rwd</td>\n",
       "      <td>154</td>\n",
       "      <td>hatchback</td>\n",
       "      <td>16500.0</td>\n",
       "    </tr>\n",
       "    <tr>\n",
       "      <th>2</th>\n",
       "      <td>fwd</td>\n",
       "      <td>102</td>\n",
       "      <td>sedan</td>\n",
       "      <td>13950.0</td>\n",
       "    </tr>\n",
       "    <tr>\n",
       "      <th>3</th>\n",
       "      <td>4wd</td>\n",
       "      <td>115</td>\n",
       "      <td>sedan</td>\n",
       "      <td>17450.0</td>\n",
       "    </tr>\n",
       "    <tr>\n",
       "      <th>4</th>\n",
       "      <td>fwd</td>\n",
       "      <td>110</td>\n",
       "      <td>sedan</td>\n",
       "      <td>15250.0</td>\n",
       "    </tr>\n",
       "    <tr>\n",
       "      <th>...</th>\n",
       "      <td>...</td>\n",
       "      <td>...</td>\n",
       "      <td>...</td>\n",
       "      <td>...</td>\n",
       "    </tr>\n",
       "    <tr>\n",
       "      <th>195</th>\n",
       "      <td>rwd</td>\n",
       "      <td>114</td>\n",
       "      <td>sedan</td>\n",
       "      <td>16845.0</td>\n",
       "    </tr>\n",
       "    <tr>\n",
       "      <th>196</th>\n",
       "      <td>rwd</td>\n",
       "      <td>160</td>\n",
       "      <td>sedan</td>\n",
       "      <td>19045.0</td>\n",
       "    </tr>\n",
       "    <tr>\n",
       "      <th>197</th>\n",
       "      <td>rwd</td>\n",
       "      <td>134</td>\n",
       "      <td>sedan</td>\n",
       "      <td>21485.0</td>\n",
       "    </tr>\n",
       "    <tr>\n",
       "      <th>198</th>\n",
       "      <td>rwd</td>\n",
       "      <td>106</td>\n",
       "      <td>sedan</td>\n",
       "      <td>22470.0</td>\n",
       "    </tr>\n",
       "    <tr>\n",
       "      <th>199</th>\n",
       "      <td>rwd</td>\n",
       "      <td>114</td>\n",
       "      <td>sedan</td>\n",
       "      <td>22625.0</td>\n",
       "    </tr>\n",
       "  </tbody>\n",
       "</table>\n",
       "<p>200 rows × 4 columns</p>\n",
       "</div>"
      ],
      "text/plain": [
       "    drive-wheels  horsepower   body-style    price\n",
       "0            rwd         111  convertible  16500.0\n",
       "1            rwd         154    hatchback  16500.0\n",
       "2            fwd         102        sedan  13950.0\n",
       "3            4wd         115        sedan  17450.0\n",
       "4            fwd         110        sedan  15250.0\n",
       "..           ...         ...          ...      ...\n",
       "195          rwd         114        sedan  16845.0\n",
       "196          rwd         160        sedan  19045.0\n",
       "197          rwd         134        sedan  21485.0\n",
       "198          rwd         106        sedan  22470.0\n",
       "199          rwd         114        sedan  22625.0\n",
       "\n",
       "[200 rows x 4 columns]"
      ]
     },
     "execution_count": 219,
     "metadata": {},
     "output_type": "execute_result"
    }
   ],
   "source": [
    "df_group_one = df[['drive-wheels','horsepower','body-style','price']];df_group_one"
   ]
  },
  {
   "cell_type": "markdown",
   "metadata": {},
   "source": [
    "We can then calculate the average price for each of the different categories of data."
   ]
  },
  {
   "cell_type": "code",
   "execution_count": 220,
   "metadata": {},
   "outputs": [
    {
     "data": {
      "text/html": [
       "<div>\n",
       "<style scoped>\n",
       "    .dataframe tbody tr th:only-of-type {\n",
       "        vertical-align: middle;\n",
       "    }\n",
       "\n",
       "    .dataframe tbody tr th {\n",
       "        vertical-align: top;\n",
       "    }\n",
       "\n",
       "    .dataframe thead th {\n",
       "        text-align: right;\n",
       "    }\n",
       "</style>\n",
       "<table border=\"1\" class=\"dataframe\">\n",
       "  <thead>\n",
       "    <tr style=\"text-align: right;\">\n",
       "      <th></th>\n",
       "      <th>drive-wheels</th>\n",
       "      <th>horsepower</th>\n",
       "      <th>price</th>\n",
       "    </tr>\n",
       "  </thead>\n",
       "  <tbody>\n",
       "    <tr>\n",
       "      <th>0</th>\n",
       "      <td>4wd</td>\n",
       "      <td>87.250000</td>\n",
       "      <td>10241.000000</td>\n",
       "    </tr>\n",
       "    <tr>\n",
       "      <th>1</th>\n",
       "      <td>fwd</td>\n",
       "      <td>86.550847</td>\n",
       "      <td>9244.779661</td>\n",
       "    </tr>\n",
       "    <tr>\n",
       "      <th>2</th>\n",
       "      <td>rwd</td>\n",
       "      <td>131.918919</td>\n",
       "      <td>19842.243243</td>\n",
       "    </tr>\n",
       "  </tbody>\n",
       "</table>\n",
       "</div>"
      ],
      "text/plain": [
       "  drive-wheels  horsepower         price\n",
       "0          4wd   87.250000  10241.000000\n",
       "1          fwd   86.550847   9244.779661\n",
       "2          rwd  131.918919  19842.243243"
      ]
     },
     "execution_count": 220,
     "metadata": {},
     "output_type": "execute_result"
    }
   ],
   "source": [
    "df_group_one.groupby(['drive-wheels'], as_index=False).mean()"
   ]
  },
  {
   "cell_type": "markdown",
   "metadata": {},
   "source": [
    "<p>From our data, it seems rear-wheel drive vehicles are, on average, the most expensive, while 4-wheel and front-wheel are approximately the same in price.</p>\n",
    "\n",
    "<p>You can also group with multiple variables. For example, let's group by both 'drive-wheels' and 'body-style'. This groups the dataframe by the unique combinations 'drive-wheels' and 'body-style'. We can store the results in the variable 'grouped_test1'.</p>"
   ]
  },
  {
   "cell_type": "code",
   "execution_count": 188,
   "metadata": {},
   "outputs": [
    {
     "data": {
      "text/html": [
       "<div>\n",
       "<style scoped>\n",
       "    .dataframe tbody tr th:only-of-type {\n",
       "        vertical-align: middle;\n",
       "    }\n",
       "\n",
       "    .dataframe tbody tr th {\n",
       "        vertical-align: top;\n",
       "    }\n",
       "\n",
       "    .dataframe thead th {\n",
       "        text-align: right;\n",
       "    }\n",
       "</style>\n",
       "<table border=\"1\" class=\"dataframe\">\n",
       "  <thead>\n",
       "    <tr style=\"text-align: right;\">\n",
       "      <th></th>\n",
       "      <th>drive-wheels</th>\n",
       "      <th>body-style</th>\n",
       "      <th>price</th>\n",
       "    </tr>\n",
       "  </thead>\n",
       "  <tbody>\n",
       "    <tr>\n",
       "      <th>0</th>\n",
       "      <td>4wd</td>\n",
       "      <td>hatchback</td>\n",
       "      <td>7603.000000</td>\n",
       "    </tr>\n",
       "    <tr>\n",
       "      <th>1</th>\n",
       "      <td>4wd</td>\n",
       "      <td>sedan</td>\n",
       "      <td>12647.333333</td>\n",
       "    </tr>\n",
       "    <tr>\n",
       "      <th>2</th>\n",
       "      <td>4wd</td>\n",
       "      <td>wagon</td>\n",
       "      <td>9095.750000</td>\n",
       "    </tr>\n",
       "    <tr>\n",
       "      <th>3</th>\n",
       "      <td>fwd</td>\n",
       "      <td>convertible</td>\n",
       "      <td>11595.000000</td>\n",
       "    </tr>\n",
       "    <tr>\n",
       "      <th>4</th>\n",
       "      <td>fwd</td>\n",
       "      <td>hardtop</td>\n",
       "      <td>8249.000000</td>\n",
       "    </tr>\n",
       "    <tr>\n",
       "      <th>5</th>\n",
       "      <td>fwd</td>\n",
       "      <td>hatchback</td>\n",
       "      <td>8396.387755</td>\n",
       "    </tr>\n",
       "    <tr>\n",
       "      <th>6</th>\n",
       "      <td>fwd</td>\n",
       "      <td>sedan</td>\n",
       "      <td>9811.800000</td>\n",
       "    </tr>\n",
       "    <tr>\n",
       "      <th>7</th>\n",
       "      <td>fwd</td>\n",
       "      <td>wagon</td>\n",
       "      <td>9997.333333</td>\n",
       "    </tr>\n",
       "    <tr>\n",
       "      <th>8</th>\n",
       "      <td>rwd</td>\n",
       "      <td>convertible</td>\n",
       "      <td>26563.250000</td>\n",
       "    </tr>\n",
       "    <tr>\n",
       "      <th>9</th>\n",
       "      <td>rwd</td>\n",
       "      <td>hardtop</td>\n",
       "      <td>24202.714286</td>\n",
       "    </tr>\n",
       "    <tr>\n",
       "      <th>10</th>\n",
       "      <td>rwd</td>\n",
       "      <td>hatchback</td>\n",
       "      <td>14337.777778</td>\n",
       "    </tr>\n",
       "    <tr>\n",
       "      <th>11</th>\n",
       "      <td>rwd</td>\n",
       "      <td>sedan</td>\n",
       "      <td>21711.833333</td>\n",
       "    </tr>\n",
       "    <tr>\n",
       "      <th>12</th>\n",
       "      <td>rwd</td>\n",
       "      <td>wagon</td>\n",
       "      <td>16994.222222</td>\n",
       "    </tr>\n",
       "  </tbody>\n",
       "</table>\n",
       "</div>"
      ],
      "text/plain": [
       "   drive-wheels   body-style         price\n",
       "0           4wd    hatchback   7603.000000\n",
       "1           4wd        sedan  12647.333333\n",
       "2           4wd        wagon   9095.750000\n",
       "3           fwd  convertible  11595.000000\n",
       "4           fwd      hardtop   8249.000000\n",
       "5           fwd    hatchback   8396.387755\n",
       "6           fwd        sedan   9811.800000\n",
       "7           fwd        wagon   9997.333333\n",
       "8           rwd  convertible  26563.250000\n",
       "9           rwd      hardtop  24202.714286\n",
       "10          rwd    hatchback  14337.777778\n",
       "11          rwd        sedan  21711.833333\n",
       "12          rwd        wagon  16994.222222"
      ]
     },
     "execution_count": 188,
     "metadata": {},
     "output_type": "execute_result"
    }
   ],
   "source": [
    "# grouping results\n",
    "df_gptest = df[['drive-wheels','body-style','price']]\n",
    "grouped_test1 = df_gptest.groupby(['drive-wheels','body-style'],as_index=False).mean()\n",
    "grouped_test1"
   ]
  },
  {
   "cell_type": "markdown",
   "metadata": {},
   "source": [
    "<p>This grouped data is much easier to visualize when it is made into a pivot table. A pivot table is like an Excel spreadsheet, with one variable along the column and another along the row. We can convert the dataframe to a pivot table using the method \"pivot \" to create a pivot table from the groups.</p>\n",
    "\n",
    "<p>In this case, we will leave the drive-wheel variable as the rows of the table, and pivot body-style to become the columns of the table:</p>"
   ]
  },
  {
   "cell_type": "code",
   "execution_count": 189,
   "metadata": {},
   "outputs": [
    {
     "data": {
      "text/html": [
       "<div>\n",
       "<style scoped>\n",
       "    .dataframe tbody tr th:only-of-type {\n",
       "        vertical-align: middle;\n",
       "    }\n",
       "\n",
       "    .dataframe tbody tr th {\n",
       "        vertical-align: top;\n",
       "    }\n",
       "\n",
       "    .dataframe thead tr th {\n",
       "        text-align: left;\n",
       "    }\n",
       "\n",
       "    .dataframe thead tr:last-of-type th {\n",
       "        text-align: right;\n",
       "    }\n",
       "</style>\n",
       "<table border=\"1\" class=\"dataframe\">\n",
       "  <thead>\n",
       "    <tr>\n",
       "      <th></th>\n",
       "      <th colspan=\"5\" halign=\"left\">price</th>\n",
       "    </tr>\n",
       "    <tr>\n",
       "      <th>body-style</th>\n",
       "      <th>convertible</th>\n",
       "      <th>hardtop</th>\n",
       "      <th>hatchback</th>\n",
       "      <th>sedan</th>\n",
       "      <th>wagon</th>\n",
       "    </tr>\n",
       "    <tr>\n",
       "      <th>drive-wheels</th>\n",
       "      <th></th>\n",
       "      <th></th>\n",
       "      <th></th>\n",
       "      <th></th>\n",
       "      <th></th>\n",
       "    </tr>\n",
       "  </thead>\n",
       "  <tbody>\n",
       "    <tr>\n",
       "      <th>4wd</th>\n",
       "      <td>NaN</td>\n",
       "      <td>NaN</td>\n",
       "      <td>7603.000000</td>\n",
       "      <td>12647.333333</td>\n",
       "      <td>9095.750000</td>\n",
       "    </tr>\n",
       "    <tr>\n",
       "      <th>fwd</th>\n",
       "      <td>11595.00</td>\n",
       "      <td>8249.000000</td>\n",
       "      <td>8396.387755</td>\n",
       "      <td>9811.800000</td>\n",
       "      <td>9997.333333</td>\n",
       "    </tr>\n",
       "    <tr>\n",
       "      <th>rwd</th>\n",
       "      <td>26563.25</td>\n",
       "      <td>24202.714286</td>\n",
       "      <td>14337.777778</td>\n",
       "      <td>21711.833333</td>\n",
       "      <td>16994.222222</td>\n",
       "    </tr>\n",
       "  </tbody>\n",
       "</table>\n",
       "</div>"
      ],
      "text/plain": [
       "                   price                                            \\\n",
       "body-style   convertible       hardtop     hatchback         sedan   \n",
       "drive-wheels                                                         \n",
       "4wd                  NaN           NaN   7603.000000  12647.333333   \n",
       "fwd             11595.00   8249.000000   8396.387755   9811.800000   \n",
       "rwd             26563.25  24202.714286  14337.777778  21711.833333   \n",
       "\n",
       "                            \n",
       "body-style           wagon  \n",
       "drive-wheels                \n",
       "4wd            9095.750000  \n",
       "fwd            9997.333333  \n",
       "rwd           16994.222222  "
      ]
     },
     "execution_count": 189,
     "metadata": {},
     "output_type": "execute_result"
    }
   ],
   "source": [
    "grouped_pivot = grouped_test1.pivot(index='drive-wheels', columns='body-style')\n",
    "grouped_pivot"
   ]
  },
  {
   "cell_type": "markdown",
   "metadata": {},
   "source": [
    "<p>Often, we won't have data for some of the pivot cells. We can fill these missing cells with the value 0, but any other value could potentially be used as well. It should be mentioned that missing data is quite a complex subject and is an entire course on its own.</p>"
   ]
  },
  {
   "cell_type": "code",
   "execution_count": 190,
   "metadata": {
    "scrolled": true
   },
   "outputs": [
    {
     "data": {
      "text/html": [
       "<div>\n",
       "<style scoped>\n",
       "    .dataframe tbody tr th:only-of-type {\n",
       "        vertical-align: middle;\n",
       "    }\n",
       "\n",
       "    .dataframe tbody tr th {\n",
       "        vertical-align: top;\n",
       "    }\n",
       "\n",
       "    .dataframe thead tr th {\n",
       "        text-align: left;\n",
       "    }\n",
       "\n",
       "    .dataframe thead tr:last-of-type th {\n",
       "        text-align: right;\n",
       "    }\n",
       "</style>\n",
       "<table border=\"1\" class=\"dataframe\">\n",
       "  <thead>\n",
       "    <tr>\n",
       "      <th></th>\n",
       "      <th colspan=\"5\" halign=\"left\">price</th>\n",
       "    </tr>\n",
       "    <tr>\n",
       "      <th>body-style</th>\n",
       "      <th>convertible</th>\n",
       "      <th>hardtop</th>\n",
       "      <th>hatchback</th>\n",
       "      <th>sedan</th>\n",
       "      <th>wagon</th>\n",
       "    </tr>\n",
       "    <tr>\n",
       "      <th>drive-wheels</th>\n",
       "      <th></th>\n",
       "      <th></th>\n",
       "      <th></th>\n",
       "      <th></th>\n",
       "      <th></th>\n",
       "    </tr>\n",
       "  </thead>\n",
       "  <tbody>\n",
       "    <tr>\n",
       "      <th>4wd</th>\n",
       "      <td>0.00</td>\n",
       "      <td>0.000000</td>\n",
       "      <td>7603.000000</td>\n",
       "      <td>12647.333333</td>\n",
       "      <td>9095.750000</td>\n",
       "    </tr>\n",
       "    <tr>\n",
       "      <th>fwd</th>\n",
       "      <td>11595.00</td>\n",
       "      <td>8249.000000</td>\n",
       "      <td>8396.387755</td>\n",
       "      <td>9811.800000</td>\n",
       "      <td>9997.333333</td>\n",
       "    </tr>\n",
       "    <tr>\n",
       "      <th>rwd</th>\n",
       "      <td>26563.25</td>\n",
       "      <td>24202.714286</td>\n",
       "      <td>14337.777778</td>\n",
       "      <td>21711.833333</td>\n",
       "      <td>16994.222222</td>\n",
       "    </tr>\n",
       "  </tbody>\n",
       "</table>\n",
       "</div>"
      ],
      "text/plain": [
       "                   price                                            \\\n",
       "body-style   convertible       hardtop     hatchback         sedan   \n",
       "drive-wheels                                                         \n",
       "4wd                 0.00      0.000000   7603.000000  12647.333333   \n",
       "fwd             11595.00   8249.000000   8396.387755   9811.800000   \n",
       "rwd             26563.25  24202.714286  14337.777778  21711.833333   \n",
       "\n",
       "                            \n",
       "body-style           wagon  \n",
       "drive-wheels                \n",
       "4wd            9095.750000  \n",
       "fwd            9997.333333  \n",
       "rwd           16994.222222  "
      ]
     },
     "execution_count": 190,
     "metadata": {},
     "output_type": "execute_result"
    }
   ],
   "source": [
    "grouped_pivot = grouped_pivot.fillna(0)\n",
    "grouped_pivot"
   ]
  },
  {
   "cell_type": "markdown",
   "metadata": {},
   "source": [
    "<p>Use the \"groupby\" function to find the average \"price\" of each car based on \"body-style\" ? </p>"
   ]
  },
  {
   "cell_type": "code",
   "execution_count": 191,
   "metadata": {},
   "outputs": [
    {
     "data": {
      "text/html": [
       "<div>\n",
       "<style scoped>\n",
       "    .dataframe tbody tr th:only-of-type {\n",
       "        vertical-align: middle;\n",
       "    }\n",
       "\n",
       "    .dataframe tbody tr th {\n",
       "        vertical-align: top;\n",
       "    }\n",
       "\n",
       "    .dataframe thead th {\n",
       "        text-align: right;\n",
       "    }\n",
       "</style>\n",
       "<table border=\"1\" class=\"dataframe\">\n",
       "  <thead>\n",
       "    <tr style=\"text-align: right;\">\n",
       "      <th></th>\n",
       "      <th>body-style</th>\n",
       "      <th>price</th>\n",
       "    </tr>\n",
       "  </thead>\n",
       "  <tbody>\n",
       "    <tr>\n",
       "      <th>0</th>\n",
       "      <td>convertible</td>\n",
       "      <td>23569.600000</td>\n",
       "    </tr>\n",
       "    <tr>\n",
       "      <th>1</th>\n",
       "      <td>hardtop</td>\n",
       "      <td>22208.500000</td>\n",
       "    </tr>\n",
       "    <tr>\n",
       "      <th>2</th>\n",
       "      <td>hatchback</td>\n",
       "      <td>9957.441176</td>\n",
       "    </tr>\n",
       "    <tr>\n",
       "      <th>3</th>\n",
       "      <td>sedan</td>\n",
       "      <td>14459.755319</td>\n",
       "    </tr>\n",
       "    <tr>\n",
       "      <th>4</th>\n",
       "      <td>wagon</td>\n",
       "      <td>12371.960000</td>\n",
       "    </tr>\n",
       "  </tbody>\n",
       "</table>\n",
       "</div>"
      ],
      "text/plain": [
       "    body-style         price\n",
       "0  convertible  23569.600000\n",
       "1      hardtop  22208.500000\n",
       "2    hatchback   9957.441176\n",
       "3        sedan  14459.755319\n",
       "4        wagon  12371.960000"
      ]
     },
     "execution_count": 191,
     "metadata": {},
     "output_type": "execute_result"
    }
   ],
   "source": [
    "question_4 = df[['body-style', 'price']]\n",
    "question_4.groupby(['body-style'], as_index=False).mean()"
   ]
  },
  {
   "cell_type": "markdown",
   "metadata": {},
   "source": [
    "If you did not import \"pyplot\" let's do it again. "
   ]
  },
  {
   "cell_type": "code",
   "execution_count": 192,
   "metadata": {},
   "outputs": [],
   "source": [
    "import matplotlib.pyplot as plt\n",
    "%matplotlib inline "
   ]
  },
  {
   "cell_type": "markdown",
   "metadata": {},
   "source": [
    "<h4>Variables: Drive Wheels and Body Style vs Price</h4>"
   ]
  },
  {
   "cell_type": "markdown",
   "metadata": {},
   "source": [
    "Let's use a heat map to visualize the relationship between Body Style vs Price."
   ]
  },
  {
   "cell_type": "code",
   "execution_count": 193,
   "metadata": {},
   "outputs": [
    {
     "data": {
      "image/png": "[encoded data removed]",
      "text/plain": [
       "<Figure size 432x288 with 2 Axes>"
      ]
     },
     "metadata": {
      "needs_background": "light"
     },
     "output_type": "display_data"
    }
   ],
   "source": [
    "plt.pcolor(grouped_pivot, cmap='RdBu')\n",
    "plt.colorbar()\n",
    "plt.show()"
   ]
  },
  {
   "cell_type": "code",
   "execution_count": 194,
   "metadata": {},
   "outputs": [
    {
     "data": {
      "text/plain": [
       "FrozenList([['price'], ['convertible', 'hardtop', 'hatchback', 'sedan', 'wagon']])"
      ]
     },
     "execution_count": 194,
     "metadata": {},
     "output_type": "execute_result"
    }
   ],
   "source": [
    "grouped_pivot.columns.levels"
   ]
  },
  {
   "cell_type": "code",
   "execution_count": 195,
   "metadata": {},
   "outputs": [
    {
     "data": {
      "text/plain": [
       "Index(['4wd', 'fwd', 'rwd'], dtype='object', name='drive-wheels')"
      ]
     },
     "execution_count": 195,
     "metadata": {},
     "output_type": "execute_result"
    }
   ],
   "source": [
    "grouped_pivot.index"
   ]
  },
  {
   "cell_type": "markdown",
   "metadata": {},
   "source": [
    "<p>The heatmap plots the target variable (price) proportional to colour with respect to the variables 'drive-wheel' and 'body-style' in the vertical and horizontal axis respectively. This allows us to visualize how the price is related to 'drive-wheel' and 'body-style'.</p>\n",
    "\n",
    "<p>The default labels convey no useful information to us. Let's change that:</p>"
   ]
  },
  {
   "cell_type": "code",
   "execution_count": 196,
   "metadata": {},
   "outputs": [
    {
     "data": {
      "image/png": "[encoded data removed]",
      "text/plain": [
       "<Figure size 432x288 with 2 Axes>"
      ]
     },
     "metadata": {
      "needs_background": "light"
     },
     "output_type": "display_data"
    }
   ],
   "source": [
    "fig, ax = plt.subplots()\n",
    "im = ax.pcolor(grouped_pivot, cmap='RdBu')\n",
    "\n",
    "#label names\n",
    "row_labels = grouped_pivot.columns.levels[1]\n",
    "col_labels = grouped_pivot.index\n",
    "\n",
    "# move ticks and labels to the center\n",
    "ax.set_xticks(np.arange(grouped_pivot.shape[1]) + 0.5, minor=False)\n",
    "ax.set_yticks(np.arange(grouped_pivot.shape[0]) + 0.5, minor=False)\n",
    "\n",
    "#insert labels\n",
    "ax.set_xticklabels(row_labels, minor=False)\n",
    "ax.set_yticklabels(col_labels, minor=False, fontsize=15, c='red')\n",
    "\n",
    "#rotate label if too long\n",
    "plt.xticks(rotation=45, fontsize=15, c='red')\n",
    "\n",
    "fig.colorbar(im)\n",
    "plt.show()"
   ]
  },
  {
   "cell_type": "markdown",
   "metadata": {},
   "source": [
    "<p>Visualization is very important in data science, and Python visualization packages provide great freedom. We will go more in-depth in a separate Python Visualizations course.</p>\n",
    "\n",
    "<p>The main question we want to answer in this module, is \"What are the main characteristics which have the most impact on the car price?\".</p>\n",
    "\n",
    "<p>To get a better measure of the important characteristics, we look at the correlation of these variables with the car price, in other words: how is the car price dependent on this variable?</p>"
   ]
  },
  {
   "cell_type": "markdown",
   "metadata": {},
   "source": [
    "## Correlation and Causation"
   ]
  },
  {
   "cell_type": "markdown",
   "metadata": {},
   "source": [
    "<p><b style=\"color:blue\">Correlation</b>: a measure of the extent of interdependence between variables.</p>\n",
    "\n",
    "<p><b style=\"color:blue\">Causation</b>: the relationship between cause and effect between two variables.</p>\n",
    "\n",
    "<p>It is important to know the difference between these two and that correlation does not imply causation. Determining correlation is much simpler  then the determining causation as causation may require independent experimentation.</p>"
   ]
  },
  {
   "cell_type": "markdown",
   "metadata": {},
   "source": [
    "<h3 style=\"color:tomato\">Pearson Correlation: </h3>\n",
    "\n",
    "<p>The Pearson Correlation measures the linear dependence between two continuous variables X and Y.</p>\n",
    "<p>The resulting coefficient is a value between -1 and 1 inclusive, where:</p>\n",
    "<ul>\n",
    "    <li><b>1</b>: Total positive linear correlation.</li>\n",
    "    <li><b>0</b>: No linear correlation, the two variables most likely do not affect each other.</li>\n",
    "    <li><b>-1</b>: Total negative linear correlation.</li>\n",
    "</ul>"
   ]
  },
  {
   "cell_type": "markdown",
   "metadata": {},
   "source": [
    "<p>Pearson Correlation is the default method of the function \"corr()\".  Like before we can calculate the Pearson Correlation of the of the 'int64' or 'float64'  variables.</p>"
   ]
  },
  {
   "cell_type": "code",
   "execution_count": 197,
   "metadata": {},
   "outputs": [
    {
     "data": {
      "text/html": [
       "<div>\n",
       "<style scoped>\n",
       "    .dataframe tbody tr th:only-of-type {\n",
       "        vertical-align: middle;\n",
       "    }\n",
       "\n",
       "    .dataframe tbody tr th {\n",
       "        vertical-align: top;\n",
       "    }\n",
       "\n",
       "    .dataframe thead th {\n",
       "        text-align: right;\n",
       "    }\n",
       "</style>\n",
       "<table border=\"1\" class=\"dataframe\">\n",
       "  <thead>\n",
       "    <tr style=\"text-align: right;\">\n",
       "      <th></th>\n",
       "      <th>Unnamed: 0</th>\n",
       "      <th>symboling</th>\n",
       "      <th>normalized-losses</th>\n",
       "      <th>wheel-base</th>\n",
       "      <th>length</th>\n",
       "      <th>width</th>\n",
       "      <th>height</th>\n",
       "      <th>curb-weight</th>\n",
       "      <th>engine-size</th>\n",
       "      <th>bore</th>\n",
       "      <th>stroke</th>\n",
       "      <th>compression-ratio</th>\n",
       "      <th>horsepower</th>\n",
       "      <th>peak-rpm</th>\n",
       "      <th>city-mpg</th>\n",
       "      <th>highway-mpg</th>\n",
       "      <th>price</th>\n",
       "      <th>city-L/100km</th>\n",
       "      <th>diesel</th>\n",
       "      <th>gas</th>\n",
       "      <th>std</th>\n",
       "      <th>turbo</th>\n",
       "    </tr>\n",
       "  </thead>\n",
       "  <tbody>\n",
       "    <tr>\n",
       "      <th>Unnamed: 0</th>\n",
       "      <td>1.000000</td>\n",
       "      <td>-0.150130</td>\n",
       "      <td>-0.242903</td>\n",
       "      <td>0.112632</td>\n",
       "      <td>0.159326</td>\n",
       "      <td>0.036964</td>\n",
       "      <td>0.238730</td>\n",
       "      <td>0.065178</td>\n",
       "      <td>-0.047468</td>\n",
       "      <td>0.251308</td>\n",
       "      <td>-0.181269</td>\n",
       "      <td>0.142885</td>\n",
       "      <td>-0.020907</td>\n",
       "      <td>-0.199298</td>\n",
       "      <td>0.022527</td>\n",
       "      <td>0.015801</td>\n",
       "      <td>-0.118787</td>\n",
       "      <td>-0.095680</td>\n",
       "      <td>0.119513</td>\n",
       "      <td>-0.119513</td>\n",
       "      <td>-0.079348</td>\n",
       "      <td>0.079348</td>\n",
       "    </tr>\n",
       "    <tr>\n",
       "      <th>symboling</th>\n",
       "      <td>-0.150130</td>\n",
       "      <td>1.000000</td>\n",
       "      <td>0.469772</td>\n",
       "      <td>-0.529145</td>\n",
       "      <td>-0.364511</td>\n",
       "      <td>-0.237262</td>\n",
       "      <td>-0.542261</td>\n",
       "      <td>-0.234743</td>\n",
       "      <td>-0.112069</td>\n",
       "      <td>-0.145790</td>\n",
       "      <td>0.008072</td>\n",
       "      <td>-0.181073</td>\n",
       "      <td>0.074617</td>\n",
       "      <td>0.284033</td>\n",
       "      <td>-0.030158</td>\n",
       "      <td>0.041248</td>\n",
       "      <td>-0.083327</td>\n",
       "      <td>0.062423</td>\n",
       "      <td>-0.195381</td>\n",
       "      <td>0.195381</td>\n",
       "      <td>0.050995</td>\n",
       "      <td>-0.050995</td>\n",
       "    </tr>\n",
       "    <tr>\n",
       "      <th>normalized-losses</th>\n",
       "      <td>-0.242903</td>\n",
       "      <td>0.469772</td>\n",
       "      <td>1.000000</td>\n",
       "      <td>-0.057068</td>\n",
       "      <td>0.019433</td>\n",
       "      <td>0.086961</td>\n",
       "      <td>-0.377664</td>\n",
       "      <td>0.099404</td>\n",
       "      <td>0.112362</td>\n",
       "      <td>-0.029929</td>\n",
       "      <td>0.055673</td>\n",
       "      <td>-0.114738</td>\n",
       "      <td>0.217322</td>\n",
       "      <td>0.239580</td>\n",
       "      <td>-0.225255</td>\n",
       "      <td>-0.182011</td>\n",
       "      <td>0.133999</td>\n",
       "      <td>0.238712</td>\n",
       "      <td>-0.101574</td>\n",
       "      <td>0.101574</td>\n",
       "      <td>0.006915</td>\n",
       "      <td>-0.006915</td>\n",
       "    </tr>\n",
       "    <tr>\n",
       "      <th>wheel-base</th>\n",
       "      <td>0.112632</td>\n",
       "      <td>-0.529145</td>\n",
       "      <td>-0.057068</td>\n",
       "      <td>1.000000</td>\n",
       "      <td>0.879005</td>\n",
       "      <td>0.814593</td>\n",
       "      <td>0.583789</td>\n",
       "      <td>0.787584</td>\n",
       "      <td>0.576779</td>\n",
       "      <td>0.501576</td>\n",
       "      <td>0.144733</td>\n",
       "      <td>0.249689</td>\n",
       "      <td>0.375610</td>\n",
       "      <td>-0.365045</td>\n",
       "      <td>-0.480029</td>\n",
       "      <td>-0.552211</td>\n",
       "      <td>0.589147</td>\n",
       "      <td>0.484047</td>\n",
       "      <td>0.306706</td>\n",
       "      <td>-0.306706</td>\n",
       "      <td>-0.254907</td>\n",
       "      <td>0.254907</td>\n",
       "    </tr>\n",
       "    <tr>\n",
       "      <th>length</th>\n",
       "      <td>0.159326</td>\n",
       "      <td>-0.364511</td>\n",
       "      <td>0.019433</td>\n",
       "      <td>0.879005</td>\n",
       "      <td>1.000000</td>\n",
       "      <td>0.857271</td>\n",
       "      <td>0.492955</td>\n",
       "      <td>0.881058</td>\n",
       "      <td>0.685531</td>\n",
       "      <td>0.610847</td>\n",
       "      <td>0.120929</td>\n",
       "      <td>0.159203</td>\n",
       "      <td>0.580583</td>\n",
       "      <td>-0.286688</td>\n",
       "      <td>-0.667658</td>\n",
       "      <td>-0.700186</td>\n",
       "      <td>0.691044</td>\n",
       "      <td>0.659174</td>\n",
       "      <td>0.210616</td>\n",
       "      <td>-0.210616</td>\n",
       "      <td>-0.229294</td>\n",
       "      <td>0.229294</td>\n",
       "    </tr>\n",
       "    <tr>\n",
       "      <th>width</th>\n",
       "      <td>0.036964</td>\n",
       "      <td>-0.237262</td>\n",
       "      <td>0.086961</td>\n",
       "      <td>0.814593</td>\n",
       "      <td>0.857271</td>\n",
       "      <td>1.000000</td>\n",
       "      <td>0.300995</td>\n",
       "      <td>0.867720</td>\n",
       "      <td>0.731100</td>\n",
       "      <td>0.548485</td>\n",
       "      <td>0.182864</td>\n",
       "      <td>0.189008</td>\n",
       "      <td>0.617115</td>\n",
       "      <td>-0.247337</td>\n",
       "      <td>-0.638155</td>\n",
       "      <td>-0.684700</td>\n",
       "      <td>0.752795</td>\n",
       "      <td>0.677111</td>\n",
       "      <td>0.243448</td>\n",
       "      <td>-0.243448</td>\n",
       "      <td>-0.304459</td>\n",
       "      <td>0.304459</td>\n",
       "    </tr>\n",
       "    <tr>\n",
       "      <th>height</th>\n",
       "      <td>0.238730</td>\n",
       "      <td>-0.542261</td>\n",
       "      <td>-0.377664</td>\n",
       "      <td>0.583789</td>\n",
       "      <td>0.492955</td>\n",
       "      <td>0.300995</td>\n",
       "      <td>1.000000</td>\n",
       "      <td>0.310660</td>\n",
       "      <td>0.076255</td>\n",
       "      <td>0.187917</td>\n",
       "      <td>-0.081103</td>\n",
       "      <td>0.259526</td>\n",
       "      <td>-0.085829</td>\n",
       "      <td>-0.315820</td>\n",
       "      <td>-0.057087</td>\n",
       "      <td>-0.111568</td>\n",
       "      <td>0.137284</td>\n",
       "      <td>0.008923</td>\n",
       "      <td>0.281198</td>\n",
       "      <td>-0.281198</td>\n",
       "      <td>-0.086531</td>\n",
       "      <td>0.086531</td>\n",
       "    </tr>\n",
       "    <tr>\n",
       "      <th>curb-weight</th>\n",
       "      <td>0.065178</td>\n",
       "      <td>-0.234743</td>\n",
       "      <td>0.099404</td>\n",
       "      <td>0.787584</td>\n",
       "      <td>0.881058</td>\n",
       "      <td>0.867720</td>\n",
       "      <td>0.310660</td>\n",
       "      <td>1.000000</td>\n",
       "      <td>0.849090</td>\n",
       "      <td>0.644552</td>\n",
       "      <td>0.168669</td>\n",
       "      <td>0.156444</td>\n",
       "      <td>0.758076</td>\n",
       "      <td>-0.279422</td>\n",
       "      <td>-0.750390</td>\n",
       "      <td>-0.795515</td>\n",
       "      <td>0.834420</td>\n",
       "      <td>0.785868</td>\n",
       "      <td>0.221082</td>\n",
       "      <td>-0.221082</td>\n",
       "      <td>-0.322097</td>\n",
       "      <td>0.322097</td>\n",
       "    </tr>\n",
       "    <tr>\n",
       "      <th>engine-size</th>\n",
       "      <td>-0.047468</td>\n",
       "      <td>-0.112069</td>\n",
       "      <td>0.112362</td>\n",
       "      <td>0.576779</td>\n",
       "      <td>0.685531</td>\n",
       "      <td>0.731100</td>\n",
       "      <td>0.076255</td>\n",
       "      <td>0.849090</td>\n",
       "      <td>1.000000</td>\n",
       "      <td>0.572878</td>\n",
       "      <td>0.208133</td>\n",
       "      <td>0.029005</td>\n",
       "      <td>0.822689</td>\n",
       "      <td>-0.256681</td>\n",
       "      <td>-0.651002</td>\n",
       "      <td>-0.679877</td>\n",
       "      <td>0.872337</td>\n",
       "      <td>0.745337</td>\n",
       "      <td>0.070925</td>\n",
       "      <td>-0.070925</td>\n",
       "      <td>-0.110278</td>\n",
       "      <td>0.110278</td>\n",
       "    </tr>\n",
       "    <tr>\n",
       "      <th>bore</th>\n",
       "      <td>0.251308</td>\n",
       "      <td>-0.145790</td>\n",
       "      <td>-0.029929</td>\n",
       "      <td>0.501576</td>\n",
       "      <td>0.610847</td>\n",
       "      <td>0.548485</td>\n",
       "      <td>0.187917</td>\n",
       "      <td>0.644552</td>\n",
       "      <td>0.572878</td>\n",
       "      <td>1.000000</td>\n",
       "      <td>-0.051087</td>\n",
       "      <td>0.002034</td>\n",
       "      <td>0.566807</td>\n",
       "      <td>-0.267061</td>\n",
       "      <td>-0.581272</td>\n",
       "      <td>-0.590672</td>\n",
       "      <td>0.543433</td>\n",
       "      <td>0.553954</td>\n",
       "      <td>0.055395</td>\n",
       "      <td>-0.055395</td>\n",
       "      <td>-0.229338</td>\n",
       "      <td>0.229338</td>\n",
       "    </tr>\n",
       "    <tr>\n",
       "      <th>stroke</th>\n",
       "      <td>-0.181269</td>\n",
       "      <td>0.008072</td>\n",
       "      <td>0.055673</td>\n",
       "      <td>0.144733</td>\n",
       "      <td>0.120929</td>\n",
       "      <td>0.182864</td>\n",
       "      <td>-0.081103</td>\n",
       "      <td>0.168669</td>\n",
       "      <td>0.208133</td>\n",
       "      <td>-0.051087</td>\n",
       "      <td>1.000000</td>\n",
       "      <td>0.186780</td>\n",
       "      <td>0.100881</td>\n",
       "      <td>-0.066021</td>\n",
       "      <td>-0.040547</td>\n",
       "      <td>-0.040170</td>\n",
       "      <td>0.083298</td>\n",
       "      <td>0.041310</td>\n",
       "      <td>0.240046</td>\n",
       "      <td>-0.240046</td>\n",
       "      <td>-0.215805</td>\n",
       "      <td>0.215805</td>\n",
       "    </tr>\n",
       "    <tr>\n",
       "      <th>compression-ratio</th>\n",
       "      <td>0.142885</td>\n",
       "      <td>-0.181073</td>\n",
       "      <td>-0.114738</td>\n",
       "      <td>0.249689</td>\n",
       "      <td>0.159203</td>\n",
       "      <td>0.189008</td>\n",
       "      <td>0.259526</td>\n",
       "      <td>0.156444</td>\n",
       "      <td>0.029005</td>\n",
       "      <td>0.002034</td>\n",
       "      <td>0.186780</td>\n",
       "      <td>1.000000</td>\n",
       "      <td>-0.214260</td>\n",
       "      <td>-0.436303</td>\n",
       "      <td>0.330897</td>\n",
       "      <td>0.267929</td>\n",
       "      <td>0.071176</td>\n",
       "      <td>-0.298898</td>\n",
       "      <td>0.985228</td>\n",
       "      <td>-0.985228</td>\n",
       "      <td>-0.307074</td>\n",
       "      <td>0.307074</td>\n",
       "    </tr>\n",
       "    <tr>\n",
       "      <th>horsepower</th>\n",
       "      <td>-0.020907</td>\n",
       "      <td>0.074617</td>\n",
       "      <td>0.217322</td>\n",
       "      <td>0.375610</td>\n",
       "      <td>0.580583</td>\n",
       "      <td>0.617115</td>\n",
       "      <td>-0.085829</td>\n",
       "      <td>0.758076</td>\n",
       "      <td>0.822689</td>\n",
       "      <td>0.566807</td>\n",
       "      <td>0.100881</td>\n",
       "      <td>-0.214260</td>\n",
       "      <td>1.000000</td>\n",
       "      <td>0.108163</td>\n",
       "      <td>-0.822488</td>\n",
       "      <td>-0.804702</td>\n",
       "      <td>0.809657</td>\n",
       "      <td>0.889613</td>\n",
       "      <td>-0.168755</td>\n",
       "      <td>0.168755</td>\n",
       "      <td>-0.251799</td>\n",
       "      <td>0.251799</td>\n",
       "    </tr>\n",
       "    <tr>\n",
       "      <th>peak-rpm</th>\n",
       "      <td>-0.199298</td>\n",
       "      <td>0.284033</td>\n",
       "      <td>0.239580</td>\n",
       "      <td>-0.365045</td>\n",
       "      <td>-0.286688</td>\n",
       "      <td>-0.247337</td>\n",
       "      <td>-0.315820</td>\n",
       "      <td>-0.279422</td>\n",
       "      <td>-0.256681</td>\n",
       "      <td>-0.267061</td>\n",
       "      <td>-0.066021</td>\n",
       "      <td>-0.436303</td>\n",
       "      <td>0.108163</td>\n",
       "      <td>1.000000</td>\n",
       "      <td>-0.116364</td>\n",
       "      <td>-0.059319</td>\n",
       "      <td>-0.101593</td>\n",
       "      <td>0.116528</td>\n",
       "      <td>-0.476430</td>\n",
       "      <td>0.476430</td>\n",
       "      <td>0.190772</td>\n",
       "      <td>-0.190772</td>\n",
       "    </tr>\n",
       "    <tr>\n",
       "      <th>city-mpg</th>\n",
       "      <td>0.022527</td>\n",
       "      <td>-0.030158</td>\n",
       "      <td>-0.225255</td>\n",
       "      <td>-0.480029</td>\n",
       "      <td>-0.667658</td>\n",
       "      <td>-0.638155</td>\n",
       "      <td>-0.057087</td>\n",
       "      <td>-0.750390</td>\n",
       "      <td>-0.651002</td>\n",
       "      <td>-0.581272</td>\n",
       "      <td>-0.040547</td>\n",
       "      <td>0.330897</td>\n",
       "      <td>-0.822488</td>\n",
       "      <td>-0.116364</td>\n",
       "      <td>1.000000</td>\n",
       "      <td>0.972024</td>\n",
       "      <td>-0.687186</td>\n",
       "      <td>-0.949692</td>\n",
       "      <td>0.264947</td>\n",
       "      <td>-0.264947</td>\n",
       "      <td>0.191068</td>\n",
       "      <td>-0.191068</td>\n",
       "    </tr>\n",
       "    <tr>\n",
       "      <th>highway-mpg</th>\n",
       "      <td>0.015801</td>\n",
       "      <td>0.041248</td>\n",
       "      <td>-0.182011</td>\n",
       "      <td>-0.552211</td>\n",
       "      <td>-0.700186</td>\n",
       "      <td>-0.684700</td>\n",
       "      <td>-0.111568</td>\n",
       "      <td>-0.795515</td>\n",
       "      <td>-0.679877</td>\n",
       "      <td>-0.590672</td>\n",
       "      <td>-0.040170</td>\n",
       "      <td>0.267929</td>\n",
       "      <td>-0.804702</td>\n",
       "      <td>-0.059319</td>\n",
       "      <td>0.972024</td>\n",
       "      <td>1.000000</td>\n",
       "      <td>-0.705115</td>\n",
       "      <td>-0.929940</td>\n",
       "      <td>0.197989</td>\n",
       "      <td>-0.197989</td>\n",
       "      <td>0.243429</td>\n",
       "      <td>-0.243429</td>\n",
       "    </tr>\n",
       "    <tr>\n",
       "      <th>price</th>\n",
       "      <td>-0.118787</td>\n",
       "      <td>-0.083327</td>\n",
       "      <td>0.133999</td>\n",
       "      <td>0.589147</td>\n",
       "      <td>0.691044</td>\n",
       "      <td>0.752795</td>\n",
       "      <td>0.137284</td>\n",
       "      <td>0.834420</td>\n",
       "      <td>0.872337</td>\n",
       "      <td>0.543433</td>\n",
       "      <td>0.083298</td>\n",
       "      <td>0.071176</td>\n",
       "      <td>0.809657</td>\n",
       "      <td>-0.101593</td>\n",
       "      <td>-0.687186</td>\n",
       "      <td>-0.705115</td>\n",
       "      <td>1.000000</td>\n",
       "      <td>0.790291</td>\n",
       "      <td>0.110417</td>\n",
       "      <td>-0.110417</td>\n",
       "      <td>-0.179762</td>\n",
       "      <td>0.179762</td>\n",
       "    </tr>\n",
       "    <tr>\n",
       "      <th>city-L/100km</th>\n",
       "      <td>-0.095680</td>\n",
       "      <td>0.062423</td>\n",
       "      <td>0.238712</td>\n",
       "      <td>0.484047</td>\n",
       "      <td>0.659174</td>\n",
       "      <td>0.677111</td>\n",
       "      <td>0.008923</td>\n",
       "      <td>0.785868</td>\n",
       "      <td>0.745337</td>\n",
       "      <td>0.553954</td>\n",
       "      <td>0.041310</td>\n",
       "      <td>-0.298898</td>\n",
       "      <td>0.889613</td>\n",
       "      <td>0.116528</td>\n",
       "      <td>-0.949692</td>\n",
       "      <td>-0.929940</td>\n",
       "      <td>0.790291</td>\n",
       "      <td>1.000000</td>\n",
       "      <td>-0.240676</td>\n",
       "      <td>0.240676</td>\n",
       "      <td>-0.158912</td>\n",
       "      <td>0.158912</td>\n",
       "    </tr>\n",
       "    <tr>\n",
       "      <th>diesel</th>\n",
       "      <td>0.119513</td>\n",
       "      <td>-0.195381</td>\n",
       "      <td>-0.101574</td>\n",
       "      <td>0.306706</td>\n",
       "      <td>0.210616</td>\n",
       "      <td>0.243448</td>\n",
       "      <td>0.281198</td>\n",
       "      <td>0.221082</td>\n",
       "      <td>0.070925</td>\n",
       "      <td>0.055395</td>\n",
       "      <td>0.240046</td>\n",
       "      <td>0.985228</td>\n",
       "      <td>-0.168755</td>\n",
       "      <td>-0.476430</td>\n",
       "      <td>0.264947</td>\n",
       "      <td>0.197989</td>\n",
       "      <td>0.110417</td>\n",
       "      <td>-0.240676</td>\n",
       "      <td>1.000000</td>\n",
       "      <td>-1.000000</td>\n",
       "      <td>-0.407787</td>\n",
       "      <td>0.407787</td>\n",
       "    </tr>\n",
       "    <tr>\n",
       "      <th>gas</th>\n",
       "      <td>-0.119513</td>\n",
       "      <td>0.195381</td>\n",
       "      <td>0.101574</td>\n",
       "      <td>-0.306706</td>\n",
       "      <td>-0.210616</td>\n",
       "      <td>-0.243448</td>\n",
       "      <td>-0.281198</td>\n",
       "      <td>-0.221082</td>\n",
       "      <td>-0.070925</td>\n",
       "      <td>-0.055395</td>\n",
       "      <td>-0.240046</td>\n",
       "      <td>-0.985228</td>\n",
       "      <td>0.168755</td>\n",
       "      <td>0.476430</td>\n",
       "      <td>-0.264947</td>\n",
       "      <td>-0.197989</td>\n",
       "      <td>-0.110417</td>\n",
       "      <td>0.240676</td>\n",
       "      <td>-1.000000</td>\n",
       "      <td>1.000000</td>\n",
       "      <td>0.407787</td>\n",
       "      <td>-0.407787</td>\n",
       "    </tr>\n",
       "    <tr>\n",
       "      <th>std</th>\n",
       "      <td>-0.079348</td>\n",
       "      <td>0.050995</td>\n",
       "      <td>0.006915</td>\n",
       "      <td>-0.254907</td>\n",
       "      <td>-0.229294</td>\n",
       "      <td>-0.304459</td>\n",
       "      <td>-0.086531</td>\n",
       "      <td>-0.322097</td>\n",
       "      <td>-0.110278</td>\n",
       "      <td>-0.229338</td>\n",
       "      <td>-0.215805</td>\n",
       "      <td>-0.307074</td>\n",
       "      <td>-0.251799</td>\n",
       "      <td>0.190772</td>\n",
       "      <td>0.191068</td>\n",
       "      <td>0.243429</td>\n",
       "      <td>-0.179762</td>\n",
       "      <td>-0.158912</td>\n",
       "      <td>-0.407787</td>\n",
       "      <td>0.407787</td>\n",
       "      <td>1.000000</td>\n",
       "      <td>-1.000000</td>\n",
       "    </tr>\n",
       "    <tr>\n",
       "      <th>turbo</th>\n",
       "      <td>0.079348</td>\n",
       "      <td>-0.050995</td>\n",
       "      <td>-0.006915</td>\n",
       "      <td>0.254907</td>\n",
       "      <td>0.229294</td>\n",
       "      <td>0.304459</td>\n",
       "      <td>0.086531</td>\n",
       "      <td>0.322097</td>\n",
       "      <td>0.110278</td>\n",
       "      <td>0.229338</td>\n",
       "      <td>0.215805</td>\n",
       "      <td>0.307074</td>\n",
       "      <td>0.251799</td>\n",
       "      <td>-0.190772</td>\n",
       "      <td>-0.191068</td>\n",
       "      <td>-0.243429</td>\n",
       "      <td>0.179762</td>\n",
       "      <td>0.158912</td>\n",
       "      <td>0.407787</td>\n",
       "      <td>-0.407787</td>\n",
       "      <td>-1.000000</td>\n",
       "      <td>1.000000</td>\n",
       "    </tr>\n",
       "  </tbody>\n",
       "</table>\n",
       "</div>"
      ],
      "text/plain": [
       "                   Unnamed: 0  symboling  normalized-losses  wheel-base  \\\n",
       "Unnamed: 0           1.000000  -0.150130          -0.242903    0.112632   \n",
       "symboling           -0.150130   1.000000           0.469772   -0.529145   \n",
       "normalized-losses   -0.242903   0.469772           1.000000   -0.057068   \n",
       "wheel-base           0.112632  -0.529145          -0.057068    1.000000   \n",
       "length               0.159326  -0.364511           0.019433    0.879005   \n",
       "width                0.036964  -0.237262           0.086961    0.814593   \n",
       "height               0.238730  -0.542261          -0.377664    0.583789   \n",
       "curb-weight          0.065178  -0.234743           0.099404    0.787584   \n",
       "engine-size         -0.047468  -0.112069           0.112362    0.576779   \n",
       "bore                 0.251308  -0.145790          -0.029929    0.501576   \n",
       "stroke              -0.181269   0.008072           0.055673    0.144733   \n",
       "compression-ratio    0.142885  -0.181073          -0.114738    0.249689   \n",
       "horsepower          -0.020907   0.074617           0.217322    0.375610   \n",
       "peak-rpm            -0.199298   0.284033           0.239580   -0.365045   \n",
       "city-mpg             0.022527  -0.030158          -0.225255   -0.480029   \n",
       "highway-mpg          0.015801   0.041248          -0.182011   -0.552211   \n",
       "price               -0.118787  -0.083327           0.133999    0.589147   \n",
       "city-L/100km        -0.095680   0.062423           0.238712    0.484047   \n",
       "diesel               0.119513  -0.195381          -0.101574    0.306706   \n",
       "gas                 -0.119513   0.195381           0.101574   -0.306706   \n",
       "std                 -0.079348   0.050995           0.006915   -0.254907   \n",
       "turbo                0.079348  -0.050995          -0.006915    0.254907   \n",
       "\n",
       "                     length     width    height  curb-weight  engine-size  \\\n",
       "Unnamed: 0         0.159326  0.036964  0.238730     0.065178    -0.047468   \n",
       "symboling         -0.364511 -0.237262 -0.542261    -0.234743    -0.112069   \n",
       "normalized-losses  0.019433  0.086961 -0.377664     0.099404     0.112362   \n",
       "wheel-base         0.879005  0.814593  0.583789     0.787584     0.576779   \n",
       "length             1.000000  0.857271  0.492955     0.881058     0.685531   \n",
       "width              0.857271  1.000000  0.300995     0.867720     0.731100   \n",
       "height             0.492955  0.300995  1.000000     0.310660     0.076255   \n",
       "curb-weight        0.881058  0.867720  0.310660     1.000000     0.849090   \n",
       "engine-size        0.685531  0.731100  0.076255     0.849090     1.000000   \n",
       "bore               0.610847  0.548485  0.187917     0.644552     0.572878   \n",
       "stroke             0.120929  0.182864 -0.081103     0.168669     0.208133   \n",
       "compression-ratio  0.159203  0.189008  0.259526     0.156444     0.029005   \n",
       "horsepower         0.580583  0.617115 -0.085829     0.758076     0.822689   \n",
       "peak-rpm          -0.286688 -0.247337 -0.315820    -0.279422    -0.256681   \n",
       "city-mpg          -0.667658 -0.638155 -0.057087    -0.750390    -0.651002   \n",
       "highway-mpg       -0.700186 -0.684700 -0.111568    -0.795515    -0.679877   \n",
       "price              0.691044  0.752795  0.137284     0.834420     0.872337   \n",
       "city-L/100km       0.659174  0.677111  0.008923     0.785868     0.745337   \n",
       "diesel             0.210616  0.243448  0.281198     0.221082     0.070925   \n",
       "gas               -0.210616 -0.243448 -0.281198    -0.221082    -0.070925   \n",
       "std               -0.229294 -0.304459 -0.086531    -0.322097    -0.110278   \n",
       "turbo              0.229294  0.304459  0.086531     0.322097     0.110278   \n",
       "\n",
       "                       bore    stroke  compression-ratio  horsepower  \\\n",
       "Unnamed: 0         0.251308 -0.181269           0.142885   -0.020907   \n",
       "symboling         -0.145790  0.008072          -0.181073    0.074617   \n",
       "normalized-losses -0.029929  0.055673          -0.114738    0.217322   \n",
       "wheel-base         0.501576  0.144733           0.249689    0.375610   \n",
       "length             0.610847  0.120929           0.159203    0.580583   \n",
       "width              0.548485  0.182864           0.189008    0.617115   \n",
       "height             0.187917 -0.081103           0.259526   -0.085829   \n",
       "curb-weight        0.644552  0.168669           0.156444    0.758076   \n",
       "engine-size        0.572878  0.208133           0.029005    0.822689   \n",
       "bore               1.000000 -0.051087           0.002034    0.566807   \n",
       "stroke            -0.051087  1.000000           0.186780    0.100881   \n",
       "compression-ratio  0.002034  0.186780           1.000000   -0.214260   \n",
       "horsepower         0.566807  0.100881          -0.214260    1.000000   \n",
       "peak-rpm          -0.267061 -0.066021          -0.436303    0.108163   \n",
       "city-mpg          -0.581272 -0.040547           0.330897   -0.822488   \n",
       "highway-mpg       -0.590672 -0.040170           0.267929   -0.804702   \n",
       "price              0.543433  0.083298           0.071176    0.809657   \n",
       "city-L/100km       0.553954  0.041310          -0.298898    0.889613   \n",
       "diesel             0.055395  0.240046           0.985228   -0.168755   \n",
       "gas               -0.055395 -0.240046          -0.985228    0.168755   \n",
       "std               -0.229338 -0.215805          -0.307074   -0.251799   \n",
       "turbo              0.229338  0.215805           0.307074    0.251799   \n",
       "\n",
       "                   peak-rpm  city-mpg  highway-mpg     price  city-L/100km  \\\n",
       "Unnamed: 0        -0.199298  0.022527     0.015801 -0.118787     -0.095680   \n",
       "symboling          0.284033 -0.030158     0.041248 -0.083327      0.062423   \n",
       "normalized-losses  0.239580 -0.225255    -0.182011  0.133999      0.238712   \n",
       "wheel-base        -0.365045 -0.480029    -0.552211  0.589147      0.484047   \n",
       "length            -0.286688 -0.667658    -0.700186  0.691044      0.659174   \n",
       "width             -0.247337 -0.638155    -0.684700  0.752795      0.677111   \n",
       "height            -0.315820 -0.057087    -0.111568  0.137284      0.008923   \n",
       "curb-weight       -0.279422 -0.750390    -0.795515  0.834420      0.785868   \n",
       "engine-size       -0.256681 -0.651002    -0.679877  0.872337      0.745337   \n",
       "bore              -0.267061 -0.581272    -0.590672  0.543433      0.553954   \n",
       "stroke            -0.066021 -0.040547    -0.040170  0.083298      0.041310   \n",
       "compression-ratio -0.436303  0.330897     0.267929  0.071176     -0.298898   \n",
       "horsepower         0.108163 -0.822488    -0.804702  0.809657      0.889613   \n",
       "peak-rpm           1.000000 -0.116364    -0.059319 -0.101593      0.116528   \n",
       "city-mpg          -0.116364  1.000000     0.972024 -0.687186     -0.949692   \n",
       "highway-mpg       -0.059319  0.972024     1.000000 -0.705115     -0.929940   \n",
       "price             -0.101593 -0.687186    -0.705115  1.000000      0.790291   \n",
       "city-L/100km       0.116528 -0.949692    -0.929940  0.790291      1.000000   \n",
       "diesel            -0.476430  0.264947     0.197989  0.110417     -0.240676   \n",
       "gas                0.476430 -0.264947    -0.197989 -0.110417      0.240676   \n",
       "std                0.190772  0.191068     0.243429 -0.179762     -0.158912   \n",
       "turbo             -0.190772 -0.191068    -0.243429  0.179762      0.158912   \n",
       "\n",
       "                     diesel       gas       std     turbo  \n",
       "Unnamed: 0         0.119513 -0.119513 -0.079348  0.079348  \n",
       "symboling         -0.195381  0.195381  0.050995 -0.050995  \n",
       "normalized-losses -0.101574  0.101574  0.006915 -0.006915  \n",
       "wheel-base         0.306706 -0.306706 -0.254907  0.254907  \n",
       "length             0.210616 -0.210616 -0.229294  0.229294  \n",
       "width              0.243448 -0.243448 -0.304459  0.304459  \n",
       "height             0.281198 -0.281198 -0.086531  0.086531  \n",
       "curb-weight        0.221082 -0.221082 -0.322097  0.322097  \n",
       "engine-size        0.070925 -0.070925 -0.110278  0.110278  \n",
       "bore               0.055395 -0.055395 -0.229338  0.229338  \n",
       "stroke             0.240046 -0.240046 -0.215805  0.215805  \n",
       "compression-ratio  0.985228 -0.985228 -0.307074  0.307074  \n",
       "horsepower        -0.168755  0.168755 -0.251799  0.251799  \n",
       "peak-rpm          -0.476430  0.476430  0.190772 -0.190772  \n",
       "city-mpg           0.264947 -0.264947  0.191068 -0.191068  \n",
       "highway-mpg        0.197989 -0.197989  0.243429 -0.243429  \n",
       "price              0.110417 -0.110417 -0.179762  0.179762  \n",
       "city-L/100km      -0.240676  0.240676 -0.158912  0.158912  \n",
       "diesel             1.000000 -1.000000 -0.407787  0.407787  \n",
       "gas               -1.000000  1.000000  0.407787 -0.407787  \n",
       "std               -0.407787  0.407787  1.000000 -1.000000  \n",
       "turbo              0.407787 -0.407787 -1.000000  1.000000  "
      ]
     },
     "execution_count": 197,
     "metadata": {},
     "output_type": "execute_result"
    }
   ],
   "source": [
    "df.corr()"
   ]
  },
  {
   "cell_type": "markdown",
   "metadata": {},
   "source": [
    " sometimes we would like to know the significant of the correlation estimate. "
   ]
  },
  {
   "cell_type": "markdown",
   "metadata": {},
   "source": [
    "<h3 style=\"color:tomato\">P-value: </h3>\n",
    "\n",
    "What is this P-value? **The P-value is the probability value that tells us how statistically significant the correlation between these two variables is.** Normally, we choose a significance level of 0.05, which means that we are 95% confident that the correlation between the variables is significant.\n",
    "By convention, when the\n",
    "<ul>\n",
    "    <li>p-value is < 0.001: we say there is strong evidence that the correlation is significant.</li>\n",
    "    <li>the p-value is < 0.05: there is moderate evidence that the correlation is significant.</li>\n",
    "    <li>the p-value is < 0.1: there is weak evidence that the correlation is significant.</li>\n",
    "    <li>the p-value is > 0.1: there is no evidence that the correlation is significant.</li>\n",
    "</ul>"
   ]
  },
  {
   "attachments": {
    "P-value.jpg": {
     "image/jpeg": "[encoded data removed]"
    }
   },
   "cell_type": "markdown",
   "metadata": {},
   "source": [
    "![P-value.jpg](attachment:P-value.jpg)"
   ]
  },
  {
   "cell_type": "markdown",
   "metadata": {},
   "source": [
    " We can obtain this information using  \"stats\" module in the \"scipy\"  library."
   ]
  },
  {
   "cell_type": "code",
   "execution_count": 198,
   "metadata": {},
   "outputs": [],
   "source": [
    "from scipy import stats"
   ]
  },
  {
   "cell_type": "markdown",
   "metadata": {},
   "source": [
    "<h3 style=\"color:gray\">Wheel-base vs Price</h3>"
   ]
  },
  {
   "cell_type": "markdown",
   "metadata": {},
   "source": [
    "Let's calculate the  Pearson Correlation Coefficient and P-value of 'wheel-base' and 'price'. "
   ]
  },
  {
   "cell_type": "code",
   "execution_count": 199,
   "metadata": {},
   "outputs": [
    {
     "name": "stdout",
     "output_type": "stream",
     "text": [
      "The Pearson Correlation Coefficient is 0.5891470005448702  with a P-value of P = 4.4570195020504053e-20\n"
     ]
    }
   ],
   "source": [
    "pearson_coef, p_value = stats.pearsonr(df['wheel-base'], df['price'])\n",
    "print(\"The Pearson Correlation Coefficient is\", pearson_coef, \" with a P-value of P =\", p_value)  "
   ]
  },
  {
   "cell_type": "markdown",
   "metadata": {},
   "source": [
    "<h5>Conclusion:</h5>\n",
    "<p>Since the p-value is $<$ 0.001, the correlation between wheel-base and price is statistically significant, although the linear relationship isn't extremely strong (~0.585)</p>"
   ]
  },
  {
   "cell_type": "markdown",
   "metadata": {},
   "source": [
    "<h3 style=\"color:gray\">Horsepower vs Price</h3>"
   ]
  },
  {
   "cell_type": "markdown",
   "metadata": {},
   "source": [
    " Let's calculate the  Pearson Correlation Coefficient and P-value of 'horsepower' and 'price'."
   ]
  },
  {
   "cell_type": "code",
   "execution_count": 200,
   "metadata": {},
   "outputs": [
    {
     "name": "stdout",
     "output_type": "stream",
     "text": [
      "The Pearson Correlation Coefficient is 0.8096565575365612  with a P-value of P =  1.0468839625927006e-47\n"
     ]
    }
   ],
   "source": [
    "pearson_coef, p_value = stats.pearsonr(df['horsepower'], df['price'])\n",
    "print(\"The Pearson Correlation Coefficient is\", pearson_coef, \" with a P-value of P = \", p_value)  "
   ]
  },
  {
   "cell_type": "markdown",
   "metadata": {},
   "source": [
    "<h5>Conclusion:</h5>\n",
    "\n",
    "<p>Since the p-value is $<$ 0.001, the correlation between horsepower and price is statistically significant, and the linear relationship is quite strong (~0.809, close to 1)</p>"
   ]
  },
  {
   "cell_type": "markdown",
   "metadata": {},
   "source": [
    "<h3 style=\"color:gray\">Length vs Price</h3>\n",
    "\n",
    "Let's calculate the  Pearson Correlation Coefficient and P-value of 'length' and 'price'."
   ]
  },
  {
   "cell_type": "code",
   "execution_count": 201,
   "metadata": {},
   "outputs": [
    {
     "name": "stdout",
     "output_type": "stream",
     "text": [
      "The Pearson Correlation Coefficient is 0.6910440897821903  with a P-value of P =  9.96096322234889e-30\n"
     ]
    }
   ],
   "source": [
    "pearson_coef, p_value = stats.pearsonr(df['length'], df['price'])\n",
    "print(\"The Pearson Correlation Coefficient is\", pearson_coef, \" with a P-value of P = \", p_value)  "
   ]
  },
  {
   "cell_type": "markdown",
   "metadata": {},
   "source": [
    "<h5>Conclusion:</h5>\n",
    "<p>Since the p-value is < 0.001, the correlation between length and price is statistically significant, and the linear relationship is moderately strong (~0.691).</p>"
   ]
  },
  {
   "cell_type": "markdown",
   "metadata": {},
   "source": [
    "<h3 style=\"color:gray\">Width vs Price</h3>"
   ]
  },
  {
   "cell_type": "markdown",
   "metadata": {},
   "source": [
    " Let's calculate the Pearson Correlation Coefficient and P-value of 'width' and 'price':"
   ]
  },
  {
   "cell_type": "code",
   "execution_count": 202,
   "metadata": {},
   "outputs": [
    {
     "name": "stdout",
     "output_type": "stream",
     "text": [
      "The Pearson Correlation Coefficient is 0.752794863183261  with a P-value of P = 8.25671414830845e-38\n"
     ]
    }
   ],
   "source": [
    "pearson_coef, p_value = stats.pearsonr(df['width'], df['price'])\n",
    "print(\"The Pearson Correlation Coefficient is\", pearson_coef, \" with a P-value of P =\", p_value ) "
   ]
  },
  {
   "cell_type": "markdown",
   "metadata": {},
   "source": [
    "**Conclusion:**\n",
    "\n",
    "Since the p-value is < 0.001, the correlation between width and price is statistically significant, and the linear relationship is quite strong (~0.751)."
   ]
  },
  {
   "cell_type": "markdown",
   "metadata": {},
   "source": [
    "<h3 style=\"color:gray\">Curb-weight vs Price</h3>"
   ]
  },
  {
   "cell_type": "markdown",
   "metadata": {},
   "source": [
    " Let's calculate the Pearson Correlation Coefficient and P-value of 'curb-weight' and 'price':"
   ]
  },
  {
   "cell_type": "code",
   "execution_count": 203,
   "metadata": {},
   "outputs": [
    {
     "name": "stdout",
     "output_type": "stream",
     "text": [
      "The Pearson Correlation Coefficient is 0.8344204348498461  with a P-value of P =  3.9699775360220333e-53\n"
     ]
    }
   ],
   "source": [
    "pearson_coef, p_value = stats.pearsonr(df['curb-weight'], df['price'])\n",
    "print( \"The Pearson Correlation Coefficient is\", pearson_coef, \" with a P-value of P = \", p_value)  "
   ]
  },
  {
   "cell_type": "markdown",
   "metadata": {},
   "source": [
    "<h5>Conclusion:</h5>\n",
    "<p>Since the p-value is $<$ 0.001, the correlation between curb-weight and price is statistically significant, and the linear relationship is quite strong (~0.834).</p>"
   ]
  },
  {
   "cell_type": "markdown",
   "metadata": {},
   "source": [
    "<h3 style=\"color:gray\">Engine-size vs Price</h3>\n",
    "\n",
    "Let's calculate the Pearson Correlation Coefficient and P-value of 'engine-size' and 'price':"
   ]
  },
  {
   "cell_type": "code",
   "execution_count": 204,
   "metadata": {},
   "outputs": [
    {
     "name": "stdout",
     "output_type": "stream",
     "text": [
      "The Pearson Correlation Coefficient is 0.8723367498521142  with a P-value of P = 1.8977171466563487e-63\n"
     ]
    }
   ],
   "source": [
    "pearson_coef, p_value = stats.pearsonr(df['engine-size'], df['price'])\n",
    "print(\"The Pearson Correlation Coefficient is\", pearson_coef, \" with a P-value of P =\", p_value) "
   ]
  },
  {
   "cell_type": "markdown",
   "metadata": {},
   "source": [
    "<h5>Conclusion:</h5>\n",
    "\n",
    "<p>Since the p-value is $<$ 0.001, the correlation between engine-size and price is statistically significant, and the linear relationship is very strong (~0.872).</p>"
   ]
  },
  {
   "cell_type": "markdown",
   "metadata": {},
   "source": [
    "<h3 style=\"color:gray\">Bore vs Price</h3>"
   ]
  },
  {
   "cell_type": "markdown",
   "metadata": {},
   "source": [
    " Let's calculate the  Pearson Correlation Coefficient and P-value of 'bore' and 'price':"
   ]
  },
  {
   "cell_type": "code",
   "execution_count": 205,
   "metadata": {},
   "outputs": [
    {
     "name": "stdout",
     "output_type": "stream",
     "text": [
      "The Pearson Correlation Coefficient is 0.5434325935555682  with a P-value of P =   9.207487524195266e-17\n"
     ]
    }
   ],
   "source": [
    "pearson_coef, p_value = stats.pearsonr(df['bore'], df['price'])\n",
    "print(\"The Pearson Correlation Coefficient is\", pearson_coef, \" with a P-value of P =  \", p_value ) "
   ]
  },
  {
   "cell_type": "markdown",
   "metadata": {},
   "source": [
    "<h5>Conclusion:</h5>\n",
    "<p>Since the p-value is $<$ 0.001, the correlation between bore and price is statistically significant, but the linear relationship is only moderate (~0.521).</p>"
   ]
  },
  {
   "cell_type": "markdown",
   "metadata": {},
   "source": [
    " We can relate the process for each 'City-mpg'  and 'Highway-mpg':"
   ]
  },
  {
   "cell_type": "markdown",
   "metadata": {},
   "source": [
    "<h3 style=\"color:gray\">City-mpg vs Price</h3>"
   ]
  },
  {
   "cell_type": "code",
   "execution_count": 206,
   "metadata": {},
   "outputs": [
    {
     "name": "stdout",
     "output_type": "stream",
     "text": [
      "The Pearson Correlation Coefficient is -0.6871861020862686  with a P-value of P =  2.729256568479228e-29\n"
     ]
    }
   ],
   "source": [
    "pearson_coef, p_value = stats.pearsonr(df['city-mpg'], df['price'])\n",
    "print(\"The Pearson Correlation Coefficient is\", pearson_coef, \" with a P-value of P = \", p_value)  "
   ]
  },
  {
   "cell_type": "markdown",
   "metadata": {},
   "source": [
    "<h5>Conclusion:</h5>\n",
    "<p>Since the p-value is $<$ 0.001, the correlation between city-mpg and price is statistically significant, and the coefficient of ~ -0.687 shows that the relationship is negative and moderately strong.</p>"
   ]
  },
  {
   "cell_type": "markdown",
   "metadata": {},
   "source": [
    "<h3 style=\"color:gray\">Highway-mpg vs Price</h3>"
   ]
  },
  {
   "cell_type": "code",
   "execution_count": 207,
   "metadata": {},
   "outputs": [
    {
     "name": "stdout",
     "output_type": "stream",
     "text": [
      "The Pearson Correlation Coefficient is -0.7051147088046401  with a P-value of P =  2.197326053158584e-31\n"
     ]
    }
   ],
   "source": [
    "pearson_coef, p_value = stats.pearsonr(df['highway-mpg'], df['price'])\n",
    "print( \"The Pearson Correlation Coefficient is\", pearson_coef, \" with a P-value of P = \", p_value ) "
   ]
  },
  {
   "cell_type": "markdown",
   "metadata": {},
   "source": [
    "##### Conclusion:\n",
    "Since the p-value is < 0.001, the correlation between highway-mpg and price is statistically significant, and the coefficient of ~ -0.705 shows that the relationship is negative and moderately strong."
   ]
  },
  {
   "cell_type": "markdown",
   "metadata": {},
   "source": [
    "## ANOVA"
   ]
  },
  {
   "cell_type": "markdown",
   "metadata": {},
   "source": [
    "\n",
    "<p> <b style=\"color:blue\">Analysis of Variance (ANOVA): </b>The Analysis of Variance is a statistical method used to test whether there are significant differences between the means of two or more groups <b style=\"color:maroon\">(ANOVA analyzes the difference between different groups of the same variable)</b>. ANOVA returns two parameters:</p>\n",
    "\n",
    "<p><b style=\"color:blue\">F-test score</b>: ANOVA assumes the means of all groups are the same, calculates how much the actual means deviate from the assumption, and reports it as the F-test score. A larger score means there is a larger difference between the means.</p>\n",
    "\n",
    "<p><b style=\"color:blue\">P-value</b>:  P-value tells how statistically significant is our calculated score value. A P-value of almost 0 implying almost certain statistical significance.</p>\n",
    "\n",
    "<p>If our price variable is strongly correlated with the variable we are analyzing, expect ANOVA to return a sizeable F-test score and a small p-value.</p>"
   ]
  },
  {
   "cell_type": "markdown",
   "metadata": {},
   "source": [
    "<h3 style=\"color:gray\">Drive Wheels</h3>"
   ]
  },
  {
   "cell_type": "markdown",
   "metadata": {},
   "source": [
    "Since ANOVA analyzes the difference between different groups of the same variable, the groupby function comes in handy. Because the **ANOVA** algorithm averages the data automatically, we do not need to take the average before hand.\n",
    "\n",
    "Let's see if different types 'drive-wheels' impact  'price', we group the data."
   ]
  },
  {
   "cell_type": "code",
   "execution_count": 208,
   "metadata": {},
   "outputs": [
    {
     "data": {
      "text/html": [
       "<div>\n",
       "<style scoped>\n",
       "    .dataframe tbody tr th:only-of-type {\n",
       "        vertical-align: middle;\n",
       "    }\n",
       "\n",
       "    .dataframe tbody tr th {\n",
       "        vertical-align: top;\n",
       "    }\n",
       "\n",
       "    .dataframe thead th {\n",
       "        text-align: right;\n",
       "    }\n",
       "</style>\n",
       "<table border=\"1\" class=\"dataframe\">\n",
       "  <thead>\n",
       "    <tr style=\"text-align: right;\">\n",
       "      <th></th>\n",
       "      <th>drive-wheels</th>\n",
       "      <th>price</th>\n",
       "    </tr>\n",
       "  </thead>\n",
       "  <tbody>\n",
       "    <tr>\n",
       "      <th>0</th>\n",
       "      <td>rwd</td>\n",
       "      <td>16500.0</td>\n",
       "    </tr>\n",
       "    <tr>\n",
       "      <th>1</th>\n",
       "      <td>rwd</td>\n",
       "      <td>16500.0</td>\n",
       "    </tr>\n",
       "    <tr>\n",
       "      <th>2</th>\n",
       "      <td>fwd</td>\n",
       "      <td>13950.0</td>\n",
       "    </tr>\n",
       "    <tr>\n",
       "      <th>3</th>\n",
       "      <td>4wd</td>\n",
       "      <td>17450.0</td>\n",
       "    </tr>\n",
       "    <tr>\n",
       "      <th>4</th>\n",
       "      <td>fwd</td>\n",
       "      <td>15250.0</td>\n",
       "    </tr>\n",
       "    <tr>\n",
       "      <th>135</th>\n",
       "      <td>4wd</td>\n",
       "      <td>7603.0</td>\n",
       "    </tr>\n",
       "  </tbody>\n",
       "</table>\n",
       "</div>"
      ],
      "text/plain": [
       "    drive-wheels    price\n",
       "0            rwd  16500.0\n",
       "1            rwd  16500.0\n",
       "2            fwd  13950.0\n",
       "3            4wd  17450.0\n",
       "4            fwd  15250.0\n",
       "135          4wd   7603.0"
      ]
     },
     "execution_count": 208,
     "metadata": {},
     "output_type": "execute_result"
    }
   ],
   "source": [
    "grouped_test2 = df_gptest[['drive-wheels', 'price']].groupby(['drive-wheels'])\n",
    "grouped_test2.head(2)"
   ]
  },
  {
   "cell_type": "code",
   "execution_count": 209,
   "metadata": {},
   "outputs": [
    {
     "data": {
      "text/html": [
       "<div>\n",
       "<style scoped>\n",
       "    .dataframe tbody tr th:only-of-type {\n",
       "        vertical-align: middle;\n",
       "    }\n",
       "\n",
       "    .dataframe tbody tr th {\n",
       "        vertical-align: top;\n",
       "    }\n",
       "\n",
       "    .dataframe thead th {\n",
       "        text-align: right;\n",
       "    }\n",
       "</style>\n",
       "<table border=\"1\" class=\"dataframe\">\n",
       "  <thead>\n",
       "    <tr style=\"text-align: right;\">\n",
       "      <th></th>\n",
       "      <th>drive-wheels</th>\n",
       "      <th>body-style</th>\n",
       "      <th>price</th>\n",
       "    </tr>\n",
       "  </thead>\n",
       "  <tbody>\n",
       "    <tr>\n",
       "      <th>0</th>\n",
       "      <td>rwd</td>\n",
       "      <td>convertible</td>\n",
       "      <td>16500.0</td>\n",
       "    </tr>\n",
       "    <tr>\n",
       "      <th>1</th>\n",
       "      <td>rwd</td>\n",
       "      <td>hatchback</td>\n",
       "      <td>16500.0</td>\n",
       "    </tr>\n",
       "    <tr>\n",
       "      <th>2</th>\n",
       "      <td>fwd</td>\n",
       "      <td>sedan</td>\n",
       "      <td>13950.0</td>\n",
       "    </tr>\n",
       "    <tr>\n",
       "      <th>3</th>\n",
       "      <td>4wd</td>\n",
       "      <td>sedan</td>\n",
       "      <td>17450.0</td>\n",
       "    </tr>\n",
       "    <tr>\n",
       "      <th>4</th>\n",
       "      <td>fwd</td>\n",
       "      <td>sedan</td>\n",
       "      <td>15250.0</td>\n",
       "    </tr>\n",
       "    <tr>\n",
       "      <th>...</th>\n",
       "      <td>...</td>\n",
       "      <td>...</td>\n",
       "      <td>...</td>\n",
       "    </tr>\n",
       "    <tr>\n",
       "      <th>195</th>\n",
       "      <td>rwd</td>\n",
       "      <td>sedan</td>\n",
       "      <td>16845.0</td>\n",
       "    </tr>\n",
       "    <tr>\n",
       "      <th>196</th>\n",
       "      <td>rwd</td>\n",
       "      <td>sedan</td>\n",
       "      <td>19045.0</td>\n",
       "    </tr>\n",
       "    <tr>\n",
       "      <th>197</th>\n",
       "      <td>rwd</td>\n",
       "      <td>sedan</td>\n",
       "      <td>21485.0</td>\n",
       "    </tr>\n",
       "    <tr>\n",
       "      <th>198</th>\n",
       "      <td>rwd</td>\n",
       "      <td>sedan</td>\n",
       "      <td>22470.0</td>\n",
       "    </tr>\n",
       "    <tr>\n",
       "      <th>199</th>\n",
       "      <td>rwd</td>\n",
       "      <td>sedan</td>\n",
       "      <td>22625.0</td>\n",
       "    </tr>\n",
       "  </tbody>\n",
       "</table>\n",
       "<p>200 rows × 3 columns</p>\n",
       "</div>"
      ],
      "text/plain": [
       "    drive-wheels   body-style    price\n",
       "0            rwd  convertible  16500.0\n",
       "1            rwd    hatchback  16500.0\n",
       "2            fwd        sedan  13950.0\n",
       "3            4wd        sedan  17450.0\n",
       "4            fwd        sedan  15250.0\n",
       "..           ...          ...      ...\n",
       "195          rwd        sedan  16845.0\n",
       "196          rwd        sedan  19045.0\n",
       "197          rwd        sedan  21485.0\n",
       "198          rwd        sedan  22470.0\n",
       "199          rwd        sedan  22625.0\n",
       "\n",
       "[200 rows x 3 columns]"
      ]
     },
     "execution_count": 209,
     "metadata": {},
     "output_type": "execute_result"
    }
   ],
   "source": [
    "df_gptest"
   ]
  },
  {
   "cell_type": "markdown",
   "metadata": {},
   "source": [
    " We can obtain the values of the method group using the method \"get_group\".  "
   ]
  },
  {
   "cell_type": "code",
   "execution_count": 210,
   "metadata": {},
   "outputs": [
    {
     "data": {
      "text/plain": [
       "3      17450.0\n",
       "135     7603.0\n",
       "139     9233.0\n",
       "140    11259.0\n",
       "143     8013.0\n",
       "144    11694.0\n",
       "149     7898.0\n",
       "150     8778.0\n",
       "Name: price, dtype: float64"
      ]
     },
     "execution_count": 210,
     "metadata": {},
     "output_type": "execute_result"
    }
   ],
   "source": [
    "group_a = grouped_test2.get_group('4wd')['price']\n",
    "group_a"
   ]
  },
  {
   "cell_type": "markdown",
   "metadata": {},
   "source": [
    "we can use the function 'f_oneway' in the module 'stats'  to obtain the <b>F-test score</b> and <b>P-value</b>."
   ]
  },
  {
   "cell_type": "code",
   "execution_count": 211,
   "metadata": {},
   "outputs": [
    {
     "name": "stdout",
     "output_type": "stream",
     "text": [
      "ANOVA results: F= 68.49603532807176 , P = 2.6116313994533863e-23\n"
     ]
    }
   ],
   "source": [
    "# ANOVA\n",
    "f_val, p_val = stats.f_oneway(grouped_test2.get_group('fwd')['price'], grouped_test2.get_group('rwd')['price'], grouped_test2.get_group('4wd')['price'])  \n",
    " \n",
    "print( \"ANOVA results: F=\", f_val, \", P =\", p_val)   "
   ]
  },
  {
   "cell_type": "markdown",
   "metadata": {},
   "source": [
    "- A large F test score shows a strong correlation and \n",
    "- A P value of almost 0 implying almost certain statistical significance. \n",
    "- But does this mean all three tested groups are all this highly correlated? "
   ]
  },
  {
   "cell_type": "markdown",
   "metadata": {},
   "source": [
    "#### Separately: fwd and rwd"
   ]
  },
  {
   "cell_type": "code",
   "execution_count": 212,
   "metadata": {},
   "outputs": [
    {
     "name": "stdout",
     "output_type": "stream",
     "text": [
      "ANOVA results: F= 131.59324661179534 , P = 1.7388247444783448e-23\n"
     ]
    }
   ],
   "source": [
    "f_val, p_val = stats.f_oneway(grouped_test2.get_group('fwd')['price'], grouped_test2.get_group('rwd')['price'])  \n",
    " \n",
    "print( \"ANOVA results: F=\", f_val, \", P =\", p_val )"
   ]
  },
  {
   "cell_type": "markdown",
   "metadata": {},
   "source": [
    " Let's examine the other groups "
   ]
  },
  {
   "cell_type": "markdown",
   "metadata": {},
   "source": [
    "#### 4wd and rwd"
   ]
  },
  {
   "cell_type": "code",
   "execution_count": 213,
   "metadata": {},
   "outputs": [
    {
     "name": "stdout",
     "output_type": "stream",
     "text": [
      "ANOVA results: F= 8.67069478113451 , P = 0.004232262975461328\n"
     ]
    }
   ],
   "source": [
    "f_val, p_val = stats.f_oneway(grouped_test2.get_group('4wd')['price'], grouped_test2.get_group('rwd')['price'])  \n",
    "   \n",
    "print( \"ANOVA results: F=\", f_val, \", P =\", p_val)   "
   ]
  },
  {
   "cell_type": "markdown",
   "metadata": {},
   "source": [
    "<h4>4wd and fwd</h4>"
   ]
  },
  {
   "cell_type": "code",
   "execution_count": 214,
   "metadata": {},
   "outputs": [
    {
     "name": "stdout",
     "output_type": "stream",
     "text": [
      "ANOVA results: F= 0.665465750252303 , P = 0.41620116697845666\n"
     ]
    }
   ],
   "source": [
    "f_val, p_val = stats.f_oneway(grouped_test2.get_group('4wd')['price'], grouped_test2.get_group('fwd')['price'])\n",
    " \n",
    "print(\"ANOVA results: F=\", f_val, \", P =\", p_val)   "
   ]
  },
  {
   "cell_type": "markdown",
   "metadata": {},
   "source": [
    "<h3 style=\"color:gray\">Conclusion: Important Variables</h3>"
   ]
  },
  {
   "cell_type": "markdown",
   "metadata": {},
   "source": [
    "<p>We now have a better idea of what our data looks like and which variables are important to take into account when predicting the car price. We have narrowed it down to the following variables:</p>\n",
    "\n",
    "Continuous numerical variables:\n",
    "<ul>\n",
    "    <li>Length</li>\n",
    "    <li>Width</li>\n",
    "    <li>Curb-weight</li>\n",
    "    <li>Engine-size</li>\n",
    "    <li>Horsepower</li>\n",
    "    <li>City-mpg</li>\n",
    "    <li>Highway-mpg</li>\n",
    "    <li>Wheel-base</li>\n",
    "    <li>Bore</li>\n",
    "</ul>\n",
    "    \n",
    "Categorical variables:\n",
    "<ul>\n",
    "    <li>Drive-wheels</li>\n",
    "</ul>\n",
    "\n",
    "<p>As we now move into building machine learning models to automate our analysis, feeding the model with variables that meaningfully affect our target variable will improve our model's prediction performance.</p>"
   ]
  }
 ],
 "metadata": {
  "anaconda-cloud": {},
  "kernelspec": {
   "display_name": "Python 3",
   "language": "python",
   "name": "python3"
  },
  "language_info": {
   "codemirror_mode": {
    "name": "ipython",
    "version": 3
   },
   "file_extension": ".py",
   "mimetype": "text/x-python",
   "name": "python",
   "nbconvert_exporter": "python",
   "pygments_lexer": "ipython3",
   "version": "3.8.2"
  },
  "toc": {
   "base_numbering": 1,
   "nav_menu": {},
   "number_sections": false,
   "sideBar": false,
   "skip_h1_title": true,
   "title_cell": "Table of Contents",
   "title_sidebar": "Contents",
   "toc_cell": true,
   "toc_position": {},
   "toc_section_display": false,
   "toc_window_display": false
  }
 },
 "nbformat": 4,
 "nbformat_minor": 2
}
